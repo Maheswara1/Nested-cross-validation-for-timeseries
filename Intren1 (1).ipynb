{
  "nbformat": 4,
  "nbformat_minor": 0,
  "metadata": {
    "colab": {
      "name": "Intren1.ipynb",
      "provenance": []
    },
    "kernelspec": {
      "name": "python3",
      "display_name": "Python 3"
    },
    "language_info": {
      "name": "python"
    }
  },
  "cells": [
    {
      "cell_type": "code",
      "source": [
        "import pandas as pd \n",
        "import numpy as np\n",
        "import matplotlib.pyplot as plt\n",
        "import seaborn as sns"
      ],
      "metadata": {
        "id": "pMWkOORJ2_tL"
      },
      "execution_count": 61,
      "outputs": []
    },
    {
      "cell_type": "code",
      "source": [
        "# read the dataset By Using pandas here training dataset\n",
        "df_train = pd.read_csv('/content/train (2).csv',index_col = 'date')\n"
      ],
      "metadata": {
        "id": "lJZJsAt53KYC"
      },
      "execution_count": 106,
      "outputs": []
    },
    {
      "cell_type": "code",
      "source": [
        "# here the capacity column conataining the  int and str elemenest so I want to taking numerical data only\n",
        "res = df_train['capacity'].str.extract(r'(?i)(?P<Amount>\\d+(?:\\.\\d+)?)\\s?(?P<Unit>[CM]?L|LTR)\\b')\n",
        "res.Unit = res.Unit.str.lower()\n",
        "df_train['capacity'] = res['Amount']"
      ],
      "metadata": {
        "id": "LXOf5kSlKNHM"
      },
      "execution_count": 107,
      "outputs": []
    },
    {
      "cell_type": "code",
      "source": [
        "# here  I want to change the data types of some columns because some columns are are object type but actually those are float\n",
        "df_train['lat'] = df_train['lat'].astype(float, errors = 'raise')\n",
        "df_train['long'] = df_train['long'].astype(float, errors = 'raise')\n",
        "df_train['pop'] = df_train['pop'].astype(float, errors = 'raise')\n",
        "df_train['capacity'] = df_train['capacity'].astype(float, errors = 'raise')\n",
        "\n",
        "df_train['date'] = pd.to_datetime(df_train['date'])"
      ],
      "metadata": {
        "id": "Ppa44Ok5LUwi",
        "colab": {
          "base_uri": "https://localhost:8080/",
          "height": 571
        },
        "outputId": "eef308ec-744d-4168-b8fc-433caafdc48f"
      },
      "execution_count": 108,
      "outputs": [
        {
          "output_type": "error",
          "ename": "KeyError",
          "evalue": "ignored",
          "traceback": [
            "\u001b[0;31m---------------------------------------------------------------------------\u001b[0m",
            "\u001b[0;31mKeyError\u001b[0m                                  Traceback (most recent call last)",
            "\u001b[0;32m/usr/local/lib/python3.7/dist-packages/pandas/core/indexes/base.py\u001b[0m in \u001b[0;36mget_loc\u001b[0;34m(self, key, method, tolerance)\u001b[0m\n\u001b[1;32m   2897\u001b[0m             \u001b[0;32mtry\u001b[0m\u001b[0;34m:\u001b[0m\u001b[0;34m\u001b[0m\u001b[0;34m\u001b[0m\u001b[0m\n\u001b[0;32m-> 2898\u001b[0;31m                 \u001b[0;32mreturn\u001b[0m \u001b[0mself\u001b[0m\u001b[0;34m.\u001b[0m\u001b[0m_engine\u001b[0m\u001b[0;34m.\u001b[0m\u001b[0mget_loc\u001b[0m\u001b[0;34m(\u001b[0m\u001b[0mcasted_key\u001b[0m\u001b[0;34m)\u001b[0m\u001b[0;34m\u001b[0m\u001b[0;34m\u001b[0m\u001b[0m\n\u001b[0m\u001b[1;32m   2899\u001b[0m             \u001b[0;32mexcept\u001b[0m \u001b[0mKeyError\u001b[0m \u001b[0;32mas\u001b[0m \u001b[0merr\u001b[0m\u001b[0;34m:\u001b[0m\u001b[0;34m\u001b[0m\u001b[0;34m\u001b[0m\u001b[0m\n",
            "\u001b[0;32mpandas/_libs/index.pyx\u001b[0m in \u001b[0;36mpandas._libs.index.IndexEngine.get_loc\u001b[0;34m()\u001b[0m\n",
            "\u001b[0;32mpandas/_libs/index.pyx\u001b[0m in \u001b[0;36mpandas._libs.index.IndexEngine.get_loc\u001b[0;34m()\u001b[0m\n",
            "\u001b[0;32mpandas/_libs/hashtable_class_helper.pxi\u001b[0m in \u001b[0;36mpandas._libs.hashtable.PyObjectHashTable.get_item\u001b[0;34m()\u001b[0m\n",
            "\u001b[0;32mpandas/_libs/hashtable_class_helper.pxi\u001b[0m in \u001b[0;36mpandas._libs.hashtable.PyObjectHashTable.get_item\u001b[0;34m()\u001b[0m\n",
            "\u001b[0;31mKeyError\u001b[0m: 'date'",
            "\nThe above exception was the direct cause of the following exception:\n",
            "\u001b[0;31mKeyError\u001b[0m                                  Traceback (most recent call last)",
            "\u001b[0;32m<ipython-input-108-35e34998f712>\u001b[0m in \u001b[0;36m<module>\u001b[0;34m()\u001b[0m\n\u001b[1;32m      5\u001b[0m \u001b[0mdf_train\u001b[0m\u001b[0;34m[\u001b[0m\u001b[0;34m'capacity'\u001b[0m\u001b[0;34m]\u001b[0m \u001b[0;34m=\u001b[0m \u001b[0mdf_train\u001b[0m\u001b[0;34m[\u001b[0m\u001b[0;34m'capacity'\u001b[0m\u001b[0;34m]\u001b[0m\u001b[0;34m.\u001b[0m\u001b[0mastype\u001b[0m\u001b[0;34m(\u001b[0m\u001b[0mfloat\u001b[0m\u001b[0;34m,\u001b[0m \u001b[0merrors\u001b[0m \u001b[0;34m=\u001b[0m \u001b[0;34m'raise'\u001b[0m\u001b[0;34m)\u001b[0m\u001b[0;34m\u001b[0m\u001b[0;34m\u001b[0m\u001b[0m\n\u001b[1;32m      6\u001b[0m \u001b[0;34m\u001b[0m\u001b[0m\n\u001b[0;32m----> 7\u001b[0;31m \u001b[0mdf_train\u001b[0m\u001b[0;34m[\u001b[0m\u001b[0;34m'date'\u001b[0m\u001b[0;34m]\u001b[0m \u001b[0;34m=\u001b[0m \u001b[0mpd\u001b[0m\u001b[0;34m.\u001b[0m\u001b[0mto_datetime\u001b[0m\u001b[0;34m(\u001b[0m\u001b[0mdf_train\u001b[0m\u001b[0;34m[\u001b[0m\u001b[0;34m'date'\u001b[0m\u001b[0;34m]\u001b[0m\u001b[0;34m)\u001b[0m\u001b[0;34m\u001b[0m\u001b[0;34m\u001b[0m\u001b[0m\n\u001b[0m",
            "\u001b[0;32m/usr/local/lib/python3.7/dist-packages/pandas/core/frame.py\u001b[0m in \u001b[0;36m__getitem__\u001b[0;34m(self, key)\u001b[0m\n\u001b[1;32m   2904\u001b[0m             \u001b[0;32mif\u001b[0m \u001b[0mself\u001b[0m\u001b[0;34m.\u001b[0m\u001b[0mcolumns\u001b[0m\u001b[0;34m.\u001b[0m\u001b[0mnlevels\u001b[0m \u001b[0;34m>\u001b[0m \u001b[0;36m1\u001b[0m\u001b[0;34m:\u001b[0m\u001b[0;34m\u001b[0m\u001b[0;34m\u001b[0m\u001b[0m\n\u001b[1;32m   2905\u001b[0m                 \u001b[0;32mreturn\u001b[0m \u001b[0mself\u001b[0m\u001b[0;34m.\u001b[0m\u001b[0m_getitem_multilevel\u001b[0m\u001b[0;34m(\u001b[0m\u001b[0mkey\u001b[0m\u001b[0;34m)\u001b[0m\u001b[0;34m\u001b[0m\u001b[0;34m\u001b[0m\u001b[0m\n\u001b[0;32m-> 2906\u001b[0;31m             \u001b[0mindexer\u001b[0m \u001b[0;34m=\u001b[0m \u001b[0mself\u001b[0m\u001b[0;34m.\u001b[0m\u001b[0mcolumns\u001b[0m\u001b[0;34m.\u001b[0m\u001b[0mget_loc\u001b[0m\u001b[0;34m(\u001b[0m\u001b[0mkey\u001b[0m\u001b[0;34m)\u001b[0m\u001b[0;34m\u001b[0m\u001b[0;34m\u001b[0m\u001b[0m\n\u001b[0m\u001b[1;32m   2907\u001b[0m             \u001b[0;32mif\u001b[0m \u001b[0mis_integer\u001b[0m\u001b[0;34m(\u001b[0m\u001b[0mindexer\u001b[0m\u001b[0;34m)\u001b[0m\u001b[0;34m:\u001b[0m\u001b[0;34m\u001b[0m\u001b[0;34m\u001b[0m\u001b[0m\n\u001b[1;32m   2908\u001b[0m                 \u001b[0mindexer\u001b[0m \u001b[0;34m=\u001b[0m \u001b[0;34m[\u001b[0m\u001b[0mindexer\u001b[0m\u001b[0;34m]\u001b[0m\u001b[0;34m\u001b[0m\u001b[0;34m\u001b[0m\u001b[0m\n",
            "\u001b[0;32m/usr/local/lib/python3.7/dist-packages/pandas/core/indexes/base.py\u001b[0m in \u001b[0;36mget_loc\u001b[0;34m(self, key, method, tolerance)\u001b[0m\n\u001b[1;32m   2898\u001b[0m                 \u001b[0;32mreturn\u001b[0m \u001b[0mself\u001b[0m\u001b[0;34m.\u001b[0m\u001b[0m_engine\u001b[0m\u001b[0;34m.\u001b[0m\u001b[0mget_loc\u001b[0m\u001b[0;34m(\u001b[0m\u001b[0mcasted_key\u001b[0m\u001b[0;34m)\u001b[0m\u001b[0;34m\u001b[0m\u001b[0;34m\u001b[0m\u001b[0m\n\u001b[1;32m   2899\u001b[0m             \u001b[0;32mexcept\u001b[0m \u001b[0mKeyError\u001b[0m \u001b[0;32mas\u001b[0m \u001b[0merr\u001b[0m\u001b[0;34m:\u001b[0m\u001b[0;34m\u001b[0m\u001b[0;34m\u001b[0m\u001b[0m\n\u001b[0;32m-> 2900\u001b[0;31m                 \u001b[0;32mraise\u001b[0m \u001b[0mKeyError\u001b[0m\u001b[0;34m(\u001b[0m\u001b[0mkey\u001b[0m\u001b[0;34m)\u001b[0m \u001b[0;32mfrom\u001b[0m \u001b[0merr\u001b[0m\u001b[0;34m\u001b[0m\u001b[0;34m\u001b[0m\u001b[0m\n\u001b[0m\u001b[1;32m   2901\u001b[0m \u001b[0;34m\u001b[0m\u001b[0m\n\u001b[1;32m   2902\u001b[0m         \u001b[0;32mif\u001b[0m \u001b[0mtolerance\u001b[0m \u001b[0;32mis\u001b[0m \u001b[0;32mnot\u001b[0m \u001b[0;32mNone\u001b[0m\u001b[0;34m:\u001b[0m\u001b[0;34m\u001b[0m\u001b[0;34m\u001b[0m\u001b[0m\n",
            "\u001b[0;31mKeyError\u001b[0m: 'date'"
          ]
        }
      ]
    },
    {
      "cell_type": "code",
      "source": [
        "df_train.info()"
      ],
      "metadata": {
        "colab": {
          "base_uri": "https://localhost:8080/"
        },
        "id": "Dpc58QR_KNMO",
        "outputId": "1f633bb8-28df-47cb-852b-2176484f1985"
      },
      "execution_count": 109,
      "outputs": [
        {
          "output_type": "stream",
          "name": "stdout",
          "text": [
            "<class 'pandas.core.frame.DataFrame'>\n",
            "Index: 7560 entries, 31/01/12 to nan\n",
            "Data columns (total 11 columns):\n",
            " #   Column     Non-Null Count  Dtype  \n",
            "---  ------     --------------  -----  \n",
            " 0   id         6480 non-null   float64\n",
            " 1   city       6480 non-null   object \n",
            " 2   lat        6429 non-null   float64\n",
            " 3   long       6434 non-null   float64\n",
            " 4   pop        6480 non-null   float64\n",
            " 5   shop       6480 non-null   object \n",
            " 6   brand      6480 non-null   object \n",
            " 7   container  6464 non-null   object \n",
            " 8   capacity   4308 non-null   float64\n",
            " 9   price      6480 non-null   float64\n",
            " 10  quantity   6480 non-null   float64\n",
            "dtypes: float64(7), object(4)\n",
            "memory usage: 708.8+ KB\n"
          ]
        }
      ]
    },
    {
      "cell_type": "code",
      "source": [
        "df_train.head()"
      ],
      "metadata": {
        "colab": {
          "base_uri": "https://localhost:8080/",
          "height": 238
        },
        "id": "yDXW8K3dKNav",
        "outputId": "b851d47a-0473-4078-9e9d-2074a579a01a"
      },
      "execution_count": 110,
      "outputs": [
        {
          "output_type": "execute_result",
          "data": {
            "text/html": [
              "<div>\n",
              "<style scoped>\n",
              "    .dataframe tbody tr th:only-of-type {\n",
              "        vertical-align: middle;\n",
              "    }\n",
              "\n",
              "    .dataframe tbody tr th {\n",
              "        vertical-align: top;\n",
              "    }\n",
              "\n",
              "    .dataframe thead th {\n",
              "        text-align: right;\n",
              "    }\n",
              "</style>\n",
              "<table border=\"1\" class=\"dataframe\">\n",
              "  <thead>\n",
              "    <tr style=\"text-align: right;\">\n",
              "      <th></th>\n",
              "      <th>id</th>\n",
              "      <th>city</th>\n",
              "      <th>lat</th>\n",
              "      <th>long</th>\n",
              "      <th>pop</th>\n",
              "      <th>shop</th>\n",
              "      <th>brand</th>\n",
              "      <th>container</th>\n",
              "      <th>capacity</th>\n",
              "      <th>price</th>\n",
              "      <th>quantity</th>\n",
              "    </tr>\n",
              "    <tr>\n",
              "      <th>date</th>\n",
              "      <th></th>\n",
              "      <th></th>\n",
              "      <th></th>\n",
              "      <th></th>\n",
              "      <th></th>\n",
              "      <th></th>\n",
              "      <th></th>\n",
              "      <th></th>\n",
              "      <th></th>\n",
              "      <th></th>\n",
              "      <th></th>\n",
              "    </tr>\n",
              "  </thead>\n",
              "  <tbody>\n",
              "    <tr>\n",
              "      <th>31/01/12</th>\n",
              "      <td>0.0</td>\n",
              "      <td>Athens</td>\n",
              "      <td>37.97945</td>\n",
              "      <td>23.71622</td>\n",
              "      <td>672130.0</td>\n",
              "      <td>shop_1</td>\n",
              "      <td>kinder-cola</td>\n",
              "      <td>glass</td>\n",
              "      <td>500.0</td>\n",
              "      <td>0.96</td>\n",
              "      <td>13280.0</td>\n",
              "    </tr>\n",
              "    <tr>\n",
              "      <th>31/01/12</th>\n",
              "      <td>1.0</td>\n",
              "      <td>Athens</td>\n",
              "      <td>37.97945</td>\n",
              "      <td>23.71622</td>\n",
              "      <td>672130.0</td>\n",
              "      <td>shop_1</td>\n",
              "      <td>kinder-cola</td>\n",
              "      <td>plastic</td>\n",
              "      <td>NaN</td>\n",
              "      <td>2.86</td>\n",
              "      <td>6727.0</td>\n",
              "    </tr>\n",
              "    <tr>\n",
              "      <th>31/01/12</th>\n",
              "      <td>2.0</td>\n",
              "      <td>Athens</td>\n",
              "      <td>37.97945</td>\n",
              "      <td>23.71622</td>\n",
              "      <td>672130.0</td>\n",
              "      <td>shop_1</td>\n",
              "      <td>kinder-cola</td>\n",
              "      <td>can</td>\n",
              "      <td>330.0</td>\n",
              "      <td>0.87</td>\n",
              "      <td>9848.0</td>\n",
              "    </tr>\n",
              "    <tr>\n",
              "      <th>31/01/12</th>\n",
              "      <td>3.0</td>\n",
              "      <td>Athens</td>\n",
              "      <td>37.97945</td>\n",
              "      <td>23.71622</td>\n",
              "      <td>672130.0</td>\n",
              "      <td>shop_1</td>\n",
              "      <td>adult-cola</td>\n",
              "      <td>glass</td>\n",
              "      <td>500.0</td>\n",
              "      <td>1.00</td>\n",
              "      <td>20050.0</td>\n",
              "    </tr>\n",
              "    <tr>\n",
              "      <th>31/01/12</th>\n",
              "      <td>4.0</td>\n",
              "      <td>Athens</td>\n",
              "      <td>37.97945</td>\n",
              "      <td>23.71622</td>\n",
              "      <td>672130.0</td>\n",
              "      <td>shop_1</td>\n",
              "      <td>adult-cola</td>\n",
              "      <td>can</td>\n",
              "      <td>330.0</td>\n",
              "      <td>0.39</td>\n",
              "      <td>25696.0</td>\n",
              "    </tr>\n",
              "  </tbody>\n",
              "</table>\n",
              "</div>"
            ],
            "text/plain": [
              "           id    city       lat      long  ...  container capacity price quantity\n",
              "date                                       ...                                   \n",
              "31/01/12  0.0  Athens  37.97945  23.71622  ...      glass    500.0  0.96  13280.0\n",
              "31/01/12  1.0  Athens  37.97945  23.71622  ...    plastic      NaN  2.86   6727.0\n",
              "31/01/12  2.0  Athens  37.97945  23.71622  ...        can    330.0  0.87   9848.0\n",
              "31/01/12  3.0  Athens  37.97945  23.71622  ...      glass    500.0  1.00  20050.0\n",
              "31/01/12  4.0  Athens  37.97945  23.71622  ...        can    330.0  0.39  25696.0\n",
              "\n",
              "[5 rows x 11 columns]"
            ]
          },
          "metadata": {},
          "execution_count": 110
        }
      ]
    },
    {
      "cell_type": "code",
      "source": [
        "df_train  = df_train.dropna(how = 'all') # after row 6479, all the values are Nan."
      ],
      "metadata": {
        "id": "jvkU7AQ38-Ni"
      },
      "execution_count": 111,
      "outputs": []
    },
    {
      "cell_type": "code",
      "source": [
        "# I want see the null values in the data\n",
        "df_train.info()"
      ],
      "metadata": {
        "colab": {
          "base_uri": "https://localhost:8080/"
        },
        "id": "EcFCmxhO3w30",
        "outputId": "80f1d293-5cfa-4b5d-c51b-338508f5334b"
      },
      "execution_count": 112,
      "outputs": [
        {
          "output_type": "stream",
          "name": "stdout",
          "text": [
            "<class 'pandas.core.frame.DataFrame'>\n",
            "Index: 6480 entries, 31/01/12 to 31/12/17\n",
            "Data columns (total 11 columns):\n",
            " #   Column     Non-Null Count  Dtype  \n",
            "---  ------     --------------  -----  \n",
            " 0   id         6480 non-null   float64\n",
            " 1   city       6480 non-null   object \n",
            " 2   lat        6429 non-null   float64\n",
            " 3   long       6434 non-null   float64\n",
            " 4   pop        6480 non-null   float64\n",
            " 5   shop       6480 non-null   object \n",
            " 6   brand      6480 non-null   object \n",
            " 7   container  6464 non-null   object \n",
            " 8   capacity   4308 non-null   float64\n",
            " 9   price      6480 non-null   float64\n",
            " 10  quantity   6480 non-null   float64\n",
            "dtypes: float64(7), object(4)\n",
            "memory usage: 607.5+ KB\n"
          ]
        }
      ]
    },
    {
      "cell_type": "code",
      "source": [
        "# finding the shape of the data \n",
        "df_train.shape"
      ],
      "metadata": {
        "colab": {
          "base_uri": "https://localhost:8080/"
        },
        "id": "8R7OzkRc4KTh",
        "outputId": "5b621b9d-5207-4362-8c91-b00182a7246e"
      },
      "execution_count": 113,
      "outputs": [
        {
          "output_type": "execute_result",
          "data": {
            "text/plain": [
              "(6480, 11)"
            ]
          },
          "metadata": {},
          "execution_count": 113
        }
      ]
    },
    {
      "cell_type": "code",
      "source": [
        "## Here we will check the percentage of nan values present in each feature\n",
        "## 1 -step make the list of features which has missing values\n",
        "features_with_na=[features for features in df_train.columns if df_train[features].isnull().sum()>1]\n",
        "## 2- step print the feature name and the percentage of missing values\n",
        "\n",
        "for feature in features_with_na:\n",
        "    print(feature, np.round(df_train[feature].isnull().mean(), 4),  ' % missing values')"
      ],
      "metadata": {
        "colab": {
          "base_uri": "https://localhost:8080/"
        },
        "id": "NNocF94W4Umn",
        "outputId": "0007b30f-83a8-48c5-e44d-5229d2658d51"
      },
      "execution_count": 114,
      "outputs": [
        {
          "output_type": "stream",
          "name": "stdout",
          "text": [
            "lat 0.0079  % missing values\n",
            "long 0.0071  % missing values\n",
            "container 0.0025  % missing values\n",
            "capacity 0.3352  % missing values\n"
          ]
        }
      ]
    },
    {
      "cell_type": "code",
      "source": [
        "# I want to fill the missing values with mean\n",
        "df_train['lat'].fillna(df_train['lat'].mean,inplace=True)\n",
        "df_train['long'].fillna(df_train['long'].mean,inplace=True)\n",
        "df_train['capacity'].fillna(df_train['capacity'].mean,inplace=True)\n",
        "df_train['container'].fillna(df_train['container'].mode,inplace=True)"
      ],
      "metadata": {
        "id": "v4qL6KiX-BtY",
        "colab": {
          "base_uri": "https://localhost:8080/"
        },
        "outputId": "81731167-bf8b-4c8f-f40e-411438224cef"
      },
      "execution_count": 115,
      "outputs": [
        {
          "output_type": "stream",
          "name": "stderr",
          "text": [
            "/usr/local/lib/python3.7/dist-packages/pandas/core/series.py:4536: SettingWithCopyWarning: \n",
            "A value is trying to be set on a copy of a slice from a DataFrame\n",
            "\n",
            "See the caveats in the documentation: https://pandas.pydata.org/pandas-docs/stable/user_guide/indexing.html#returning-a-view-versus-a-copy\n",
            "  downcast=downcast,\n"
          ]
        }
      ]
    },
    {
      "cell_type": "code",
      "source": [
        "# finall check for null values\n",
        "df_train.isnull().sum()"
      ],
      "metadata": {
        "colab": {
          "base_uri": "https://localhost:8080/"
        },
        "id": "pO07igkxCoPB",
        "outputId": "2046359b-1d8f-43c1-da8b-5effb932f9ce"
      },
      "execution_count": 116,
      "outputs": [
        {
          "output_type": "execute_result",
          "data": {
            "text/plain": [
              "id           0\n",
              "city         0\n",
              "lat          0\n",
              "long         0\n",
              "pop          0\n",
              "shop         0\n",
              "brand        0\n",
              "container    0\n",
              "capacity     0\n",
              "price        0\n",
              "quantity     0\n",
              "dtype: int64"
            ]
          },
          "metadata": {},
          "execution_count": 116
        }
      ]
    },
    {
      "cell_type": "code",
      "source": [
        "df_train.shape"
      ],
      "metadata": {
        "colab": {
          "base_uri": "https://localhost:8080/"
        },
        "id": "Jx165IGYDNij",
        "outputId": "6c0ac926-e3bf-4dad-882c-c10ad8a1c8c5"
      },
      "execution_count": 117,
      "outputs": [
        {
          "output_type": "execute_result",
          "data": {
            "text/plain": [
              "(6480, 11)"
            ]
          },
          "metadata": {},
          "execution_count": 117
        }
      ]
    },
    {
      "cell_type": "code",
      "source": [
        "df_train.info()"
      ],
      "metadata": {
        "colab": {
          "base_uri": "https://localhost:8080/"
        },
        "id": "t3-BljQmDQW9",
        "outputId": "5268bb58-1010-4e44-eb1d-bfb79e70059d"
      },
      "execution_count": 118,
      "outputs": [
        {
          "output_type": "stream",
          "name": "stdout",
          "text": [
            "<class 'pandas.core.frame.DataFrame'>\n",
            "Index: 6480 entries, 31/01/12 to 31/12/17\n",
            "Data columns (total 11 columns):\n",
            " #   Column     Non-Null Count  Dtype  \n",
            "---  ------     --------------  -----  \n",
            " 0   id         6480 non-null   float64\n",
            " 1   city       6480 non-null   object \n",
            " 2   lat        6480 non-null   object \n",
            " 3   long       6480 non-null   object \n",
            " 4   pop        6480 non-null   float64\n",
            " 5   shop       6480 non-null   object \n",
            " 6   brand      6480 non-null   object \n",
            " 7   container  6480 non-null   object \n",
            " 8   capacity   6480 non-null   object \n",
            " 9   price      6480 non-null   float64\n",
            " 10  quantity   6480 non-null   float64\n",
            "dtypes: float64(4), object(7)\n",
            "memory usage: 607.5+ KB\n"
          ]
        }
      ]
    },
    {
      "cell_type": "code",
      "source": [
        "# finding the outliers in the data\n",
        "df_train.boxplot()"
      ],
      "metadata": {
        "colab": {
          "base_uri": "https://localhost:8080/",
          "height": 285
        },
        "id": "uo_LPYU2KFw0",
        "outputId": "e2177376-8936-4a4e-bc39-587de8370828"
      },
      "execution_count": 119,
      "outputs": [
        {
          "output_type": "execute_result",
          "data": {
            "text/plain": [
              "<matplotlib.axes._subplots.AxesSubplot at 0x7f5bb7ac5a90>"
            ]
          },
          "metadata": {},
          "execution_count": 119
        },
        {
          "output_type": "display_data",
          "data": {
            "image/png": "[encoded data removed]",
            "text/plain": [
              "<Figure size 432x288 with 1 Axes>"
            ]
          },
          "metadata": {
            "needs_background": "light"
          }
        }
      ]
    },
    {
      "cell_type": "code",
      "source": [
        "# I want to clean the outliers also \n",
        "df_train.describe()"
      ],
      "metadata": {
        "colab": {
          "base_uri": "https://localhost:8080/",
          "height": 300
        },
        "id": "vVUsZndEOzKS",
        "outputId": "f9548937-b168-41d0-8dda-686f607f8825"
      },
      "execution_count": 120,
      "outputs": [
        {
          "output_type": "execute_result",
          "data": {
            "text/html": [
              "<div>\n",
              "<style scoped>\n",
              "    .dataframe tbody tr th:only-of-type {\n",
              "        vertical-align: middle;\n",
              "    }\n",
              "\n",
              "    .dataframe tbody tr th {\n",
              "        vertical-align: top;\n",
              "    }\n",
              "\n",
              "    .dataframe thead th {\n",
              "        text-align: right;\n",
              "    }\n",
              "</style>\n",
              "<table border=\"1\" class=\"dataframe\">\n",
              "  <thead>\n",
              "    <tr style=\"text-align: right;\">\n",
              "      <th></th>\n",
              "      <th>id</th>\n",
              "      <th>pop</th>\n",
              "      <th>price</th>\n",
              "      <th>quantity</th>\n",
              "    </tr>\n",
              "  </thead>\n",
              "  <tbody>\n",
              "    <tr>\n",
              "      <th>count</th>\n",
              "      <td>6480.000000</td>\n",
              "      <td>6480.000000</td>\n",
              "      <td>6480.000000</td>\n",
              "      <td>6480.000000</td>\n",
              "    </tr>\n",
              "    <tr>\n",
              "      <th>mean</th>\n",
              "      <td>3239.500000</td>\n",
              "      <td>355141.416667</td>\n",
              "      <td>1.188981</td>\n",
              "      <td>29431.855093</td>\n",
              "    </tr>\n",
              "    <tr>\n",
              "      <th>std</th>\n",
              "      <td>1870.759204</td>\n",
              "      <td>232828.796289</td>\n",
              "      <td>0.814567</td>\n",
              "      <td>17901.328301</td>\n",
              "    </tr>\n",
              "    <tr>\n",
              "      <th>min</th>\n",
              "      <td>0.000000</td>\n",
              "      <td>134219.000000</td>\n",
              "      <td>0.110000</td>\n",
              "      <td>2953.000000</td>\n",
              "    </tr>\n",
              "    <tr>\n",
              "      <th>25%</th>\n",
              "      <td>1619.750000</td>\n",
              "      <td>141439.750000</td>\n",
              "      <td>0.610000</td>\n",
              "      <td>16441.750000</td>\n",
              "    </tr>\n",
              "    <tr>\n",
              "      <th>50%</th>\n",
              "      <td>3239.500000</td>\n",
              "      <td>257501.500000</td>\n",
              "      <td>0.920000</td>\n",
              "      <td>25184.000000</td>\n",
              "    </tr>\n",
              "    <tr>\n",
              "      <th>75%</th>\n",
              "      <td>4859.250000</td>\n",
              "      <td>665871.000000</td>\n",
              "      <td>1.500000</td>\n",
              "      <td>37866.000000</td>\n",
              "    </tr>\n",
              "    <tr>\n",
              "      <th>max</th>\n",
              "      <td>6479.000000</td>\n",
              "      <td>672130.000000</td>\n",
              "      <td>4.540000</td>\n",
              "      <td>145287.000000</td>\n",
              "    </tr>\n",
              "  </tbody>\n",
              "</table>\n",
              "</div>"
            ],
            "text/plain": [
              "                id            pop        price       quantity\n",
              "count  6480.000000    6480.000000  6480.000000    6480.000000\n",
              "mean   3239.500000  355141.416667     1.188981   29431.855093\n",
              "std    1870.759204  232828.796289     0.814567   17901.328301\n",
              "min       0.000000  134219.000000     0.110000    2953.000000\n",
              "25%    1619.750000  141439.750000     0.610000   16441.750000\n",
              "50%    3239.500000  257501.500000     0.920000   25184.000000\n",
              "75%    4859.250000  665871.000000     1.500000   37866.000000\n",
              "max    6479.000000  672130.000000     4.540000  145287.000000"
            ]
          },
          "metadata": {},
          "execution_count": 120
        }
      ]
    },
    {
      "cell_type": "code",
      "source": [
        "q1 = np.quantile(df_train['quantity'], 0.25)\n",
        "q2 = np.quantile(df_train['quantity'], 0.50)\n",
        "q3 = np.quantile(df_train['quantity'], 0.75)\n",
        "IQR = q3 - q1\n",
        "upperwhishker = q3 + (IQR * 0.5)\n",
        "lowerwhishker = q1 - (IQR * 0.5)"
      ],
      "metadata": {
        "id": "O1wKWeH0P7wk"
      },
      "execution_count": 121,
      "outputs": []
    },
    {
      "cell_type": "code",
      "source": [
        "df_train['quantity'] = np.where(df_train['quantity']>upperwhishker,upperwhishker,df_train['quantity'])"
      ],
      "metadata": {
        "id": "dr38K5LBQ3FZ",
        "colab": {
          "base_uri": "https://localhost:8080/"
        },
        "outputId": "cb10a17c-82e7-487c-ca41-d57fb16ca660"
      },
      "execution_count": 122,
      "outputs": [
        {
          "output_type": "stream",
          "name": "stderr",
          "text": [
            "/usr/local/lib/python3.7/dist-packages/ipykernel_launcher.py:1: SettingWithCopyWarning: \n",
            "A value is trying to be set on a copy of a slice from a DataFrame.\n",
            "Try using .loc[row_indexer,col_indexer] = value instead\n",
            "\n",
            "See the caveats in the documentation: https://pandas.pydata.org/pandas-docs/stable/user_guide/indexing.html#returning-a-view-versus-a-copy\n",
            "  \"\"\"Entry point for launching an IPython kernel.\n"
          ]
        }
      ]
    },
    {
      "cell_type": "code",
      "source": [
        "q1 = np.quantile(df_train['price'], 0.25)\n",
        "q2 = np.quantile(df_train['price'], 0.50)\n",
        "q3 = np.quantile(df_train['price'], 0.75)\n",
        "IQR = q3 - q1\n",
        "upperwhishker = q3 + (IQR * 0.5)\n",
        "lowerwhishker = q1 - (IQR * 0.5)\n",
        "df_train['price'] = np.where(df_train['price']>upperwhishker,upperwhishker,df_train['price'])"
      ],
      "metadata": {
        "id": "DD4iH-5eTFfY",
        "colab": {
          "base_uri": "https://localhost:8080/"
        },
        "outputId": "5c9e7764-2a80-4693-c0ad-f8744c93805c"
      },
      "execution_count": 123,
      "outputs": [
        {
          "output_type": "stream",
          "name": "stderr",
          "text": [
            "/usr/local/lib/python3.7/dist-packages/ipykernel_launcher.py:7: SettingWithCopyWarning: \n",
            "A value is trying to be set on a copy of a slice from a DataFrame.\n",
            "Try using .loc[row_indexer,col_indexer] = value instead\n",
            "\n",
            "See the caveats in the documentation: https://pandas.pydata.org/pandas-docs/stable/user_guide/indexing.html#returning-a-view-versus-a-copy\n",
            "  import sys\n"
          ]
        }
      ]
    },
    {
      "cell_type": "code",
      "source": [
        "# Now clear the all outliers \n",
        "df_train.boxplot()"
      ],
      "metadata": {
        "colab": {
          "base_uri": "https://localhost:8080/",
          "height": 285
        },
        "id": "2omsB8H8TRRu",
        "outputId": "c6beaa36-9e91-4c9b-a47e-392bcde2ffdf"
      },
      "execution_count": 124,
      "outputs": [
        {
          "output_type": "execute_result",
          "data": {
            "text/plain": [
              "<matplotlib.axes._subplots.AxesSubplot at 0x7f5bb7b6e610>"
            ]
          },
          "metadata": {},
          "execution_count": 124
        },
        {
          "output_type": "display_data",
          "data": {
            "image/png": "[encoded data removed]",
            "text/plain": [
              "<Figure size 432x288 with 1 Axes>"
            ]
          },
          "metadata": {
            "needs_background": "light"
          }
        }
      ]
    },
    {
      "cell_type": "code",
      "source": [
        "df_city = pd.get_dummies(df_train['city'])\n",
        "df_shop = pd.get_dummies(df_train['shop'])\n",
        "df_brand = pd.get_dummies(df_train['brand'])\n",
        "\n"
      ],
      "metadata": {
        "id": "xIknHg-sXFXZ"
      },
      "execution_count": 125,
      "outputs": []
    },
    {
      "cell_type": "markdown",
      "source": [
        "# Now data is cleaned and no duplicate values no null values and no outliers "
      ],
      "metadata": {
        "id": "jxoF3dV1i0K2"
      }
    },
    {
      "cell_type": "code",
      "source": [
        "df_brand"
      ],
      "metadata": {
        "colab": {
          "base_uri": "https://localhost:8080/",
          "height": 455
        },
        "id": "FxtAbajBjBOg",
        "outputId": "a33d0af5-129d-4b2e-c601-25734e80c257"
      },
      "execution_count": 126,
      "outputs": [
        {
          "output_type": "execute_result",
          "data": {
            "text/html": [
              "<div>\n",
              "<style scoped>\n",
              "    .dataframe tbody tr th:only-of-type {\n",
              "        vertical-align: middle;\n",
              "    }\n",
              "\n",
              "    .dataframe tbody tr th {\n",
              "        vertical-align: top;\n",
              "    }\n",
              "\n",
              "    .dataframe thead th {\n",
              "        text-align: right;\n",
              "    }\n",
              "</style>\n",
              "<table border=\"1\" class=\"dataframe\">\n",
              "  <thead>\n",
              "    <tr style=\"text-align: right;\">\n",
              "      <th></th>\n",
              "      <th>adult-cola</th>\n",
              "      <th>gazoza</th>\n",
              "      <th>kinder-cola</th>\n",
              "      <th>lemon-boost</th>\n",
              "      <th>orange-power</th>\n",
              "    </tr>\n",
              "    <tr>\n",
              "      <th>date</th>\n",
              "      <th></th>\n",
              "      <th></th>\n",
              "      <th></th>\n",
              "      <th></th>\n",
              "      <th></th>\n",
              "    </tr>\n",
              "  </thead>\n",
              "  <tbody>\n",
              "    <tr>\n",
              "      <th>31/01/12</th>\n",
              "      <td>0</td>\n",
              "      <td>0</td>\n",
              "      <td>1</td>\n",
              "      <td>0</td>\n",
              "      <td>0</td>\n",
              "    </tr>\n",
              "    <tr>\n",
              "      <th>31/01/12</th>\n",
              "      <td>0</td>\n",
              "      <td>0</td>\n",
              "      <td>1</td>\n",
              "      <td>0</td>\n",
              "      <td>0</td>\n",
              "    </tr>\n",
              "    <tr>\n",
              "      <th>31/01/12</th>\n",
              "      <td>0</td>\n",
              "      <td>0</td>\n",
              "      <td>1</td>\n",
              "      <td>0</td>\n",
              "      <td>0</td>\n",
              "    </tr>\n",
              "    <tr>\n",
              "      <th>31/01/12</th>\n",
              "      <td>1</td>\n",
              "      <td>0</td>\n",
              "      <td>0</td>\n",
              "      <td>0</td>\n",
              "      <td>0</td>\n",
              "    </tr>\n",
              "    <tr>\n",
              "      <th>31/01/12</th>\n",
              "      <td>1</td>\n",
              "      <td>0</td>\n",
              "      <td>0</td>\n",
              "      <td>0</td>\n",
              "      <td>0</td>\n",
              "    </tr>\n",
              "    <tr>\n",
              "      <th>...</th>\n",
              "      <td>...</td>\n",
              "      <td>...</td>\n",
              "      <td>...</td>\n",
              "      <td>...</td>\n",
              "      <td>...</td>\n",
              "    </tr>\n",
              "    <tr>\n",
              "      <th>31/12/17</th>\n",
              "      <td>0</td>\n",
              "      <td>0</td>\n",
              "      <td>0</td>\n",
              "      <td>0</td>\n",
              "      <td>1</td>\n",
              "    </tr>\n",
              "    <tr>\n",
              "      <th>31/12/17</th>\n",
              "      <td>0</td>\n",
              "      <td>0</td>\n",
              "      <td>0</td>\n",
              "      <td>0</td>\n",
              "      <td>1</td>\n",
              "    </tr>\n",
              "    <tr>\n",
              "      <th>31/12/17</th>\n",
              "      <td>1</td>\n",
              "      <td>0</td>\n",
              "      <td>0</td>\n",
              "      <td>0</td>\n",
              "      <td>0</td>\n",
              "    </tr>\n",
              "    <tr>\n",
              "      <th>31/12/17</th>\n",
              "      <td>0</td>\n",
              "      <td>1</td>\n",
              "      <td>0</td>\n",
              "      <td>0</td>\n",
              "      <td>0</td>\n",
              "    </tr>\n",
              "    <tr>\n",
              "      <th>31/12/17</th>\n",
              "      <td>1</td>\n",
              "      <td>0</td>\n",
              "      <td>0</td>\n",
              "      <td>0</td>\n",
              "      <td>0</td>\n",
              "    </tr>\n",
              "  </tbody>\n",
              "</table>\n",
              "<p>6480 rows × 5 columns</p>\n",
              "</div>"
            ],
            "text/plain": [
              "          adult-cola  gazoza  kinder-cola  lemon-boost  orange-power\n",
              "date                                                                \n",
              "31/01/12           0       0            1            0             0\n",
              "31/01/12           0       0            1            0             0\n",
              "31/01/12           0       0            1            0             0\n",
              "31/01/12           1       0            0            0             0\n",
              "31/01/12           1       0            0            0             0\n",
              "...              ...     ...          ...          ...           ...\n",
              "31/12/17           0       0            0            0             1\n",
              "31/12/17           0       0            0            0             1\n",
              "31/12/17           1       0            0            0             0\n",
              "31/12/17           0       1            0            0             0\n",
              "31/12/17           1       0            0            0             0\n",
              "\n",
              "[6480 rows x 5 columns]"
            ]
          },
          "metadata": {},
          "execution_count": 126
        }
      ]
    },
    {
      "cell_type": "code",
      "source": [
        "df_city"
      ],
      "metadata": {
        "colab": {
          "base_uri": "https://localhost:8080/",
          "height": 455
        },
        "id": "jCjX2tcgjNoX",
        "outputId": "dd7f93a2-2035-4dce-8bf5-2d2eec9c51ec"
      },
      "execution_count": 127,
      "outputs": [
        {
          "output_type": "execute_result",
          "data": {
            "text/html": [
              "<div>\n",
              "<style scoped>\n",
              "    .dataframe tbody tr th:only-of-type {\n",
              "        vertical-align: middle;\n",
              "    }\n",
              "\n",
              "    .dataframe tbody tr th {\n",
              "        vertical-align: top;\n",
              "    }\n",
              "\n",
              "    .dataframe thead th {\n",
              "        text-align: right;\n",
              "    }\n",
              "</style>\n",
              "<table border=\"1\" class=\"dataframe\">\n",
              "  <thead>\n",
              "    <tr style=\"text-align: right;\">\n",
              "      <th></th>\n",
              "      <th>Athens</th>\n",
              "      <th>Irakleion</th>\n",
              "      <th>Larisa</th>\n",
              "      <th>Patra</th>\n",
              "      <th>Thessaloniki</th>\n",
              "    </tr>\n",
              "    <tr>\n",
              "      <th>date</th>\n",
              "      <th></th>\n",
              "      <th></th>\n",
              "      <th></th>\n",
              "      <th></th>\n",
              "      <th></th>\n",
              "    </tr>\n",
              "  </thead>\n",
              "  <tbody>\n",
              "    <tr>\n",
              "      <th>31/01/12</th>\n",
              "      <td>1</td>\n",
              "      <td>0</td>\n",
              "      <td>0</td>\n",
              "      <td>0</td>\n",
              "      <td>0</td>\n",
              "    </tr>\n",
              "    <tr>\n",
              "      <th>31/01/12</th>\n",
              "      <td>1</td>\n",
              "      <td>0</td>\n",
              "      <td>0</td>\n",
              "      <td>0</td>\n",
              "      <td>0</td>\n",
              "    </tr>\n",
              "    <tr>\n",
              "      <th>31/01/12</th>\n",
              "      <td>1</td>\n",
              "      <td>0</td>\n",
              "      <td>0</td>\n",
              "      <td>0</td>\n",
              "      <td>0</td>\n",
              "    </tr>\n",
              "    <tr>\n",
              "      <th>31/01/12</th>\n",
              "      <td>1</td>\n",
              "      <td>0</td>\n",
              "      <td>0</td>\n",
              "      <td>0</td>\n",
              "      <td>0</td>\n",
              "    </tr>\n",
              "    <tr>\n",
              "      <th>31/01/12</th>\n",
              "      <td>1</td>\n",
              "      <td>0</td>\n",
              "      <td>0</td>\n",
              "      <td>0</td>\n",
              "      <td>0</td>\n",
              "    </tr>\n",
              "    <tr>\n",
              "      <th>...</th>\n",
              "      <td>...</td>\n",
              "      <td>...</td>\n",
              "      <td>...</td>\n",
              "      <td>...</td>\n",
              "      <td>...</td>\n",
              "    </tr>\n",
              "    <tr>\n",
              "      <th>31/12/17</th>\n",
              "      <td>1</td>\n",
              "      <td>0</td>\n",
              "      <td>0</td>\n",
              "      <td>0</td>\n",
              "      <td>0</td>\n",
              "    </tr>\n",
              "    <tr>\n",
              "      <th>31/12/17</th>\n",
              "      <td>0</td>\n",
              "      <td>0</td>\n",
              "      <td>1</td>\n",
              "      <td>0</td>\n",
              "      <td>0</td>\n",
              "    </tr>\n",
              "    <tr>\n",
              "      <th>31/12/17</th>\n",
              "      <td>0</td>\n",
              "      <td>0</td>\n",
              "      <td>0</td>\n",
              "      <td>1</td>\n",
              "      <td>0</td>\n",
              "    </tr>\n",
              "    <tr>\n",
              "      <th>31/12/17</th>\n",
              "      <td>0</td>\n",
              "      <td>0</td>\n",
              "      <td>0</td>\n",
              "      <td>0</td>\n",
              "      <td>1</td>\n",
              "    </tr>\n",
              "    <tr>\n",
              "      <th>31/12/17</th>\n",
              "      <td>0</td>\n",
              "      <td>0</td>\n",
              "      <td>0</td>\n",
              "      <td>0</td>\n",
              "      <td>1</td>\n",
              "    </tr>\n",
              "  </tbody>\n",
              "</table>\n",
              "<p>6480 rows × 5 columns</p>\n",
              "</div>"
            ],
            "text/plain": [
              "          Athens  Irakleion  Larisa  Patra  Thessaloniki\n",
              "date                                                    \n",
              "31/01/12       1          0       0      0             0\n",
              "31/01/12       1          0       0      0             0\n",
              "31/01/12       1          0       0      0             0\n",
              "31/01/12       1          0       0      0             0\n",
              "31/01/12       1          0       0      0             0\n",
              "...          ...        ...     ...    ...           ...\n",
              "31/12/17       1          0       0      0             0\n",
              "31/12/17       0          0       1      0             0\n",
              "31/12/17       0          0       0      1             0\n",
              "31/12/17       0          0       0      0             1\n",
              "31/12/17       0          0       0      0             1\n",
              "\n",
              "[6480 rows x 5 columns]"
            ]
          },
          "metadata": {},
          "execution_count": 127
        }
      ]
    },
    {
      "cell_type": "code",
      "source": [
        "df_shop"
      ],
      "metadata": {
        "colab": {
          "base_uri": "https://localhost:8080/",
          "height": 455
        },
        "id": "P1DUhHgJlU0-",
        "outputId": "11baa088-2bfb-403c-e9e4-f03c8c301678"
      },
      "execution_count": 128,
      "outputs": [
        {
          "output_type": "execute_result",
          "data": {
            "text/html": [
              "<div>\n",
              "<style scoped>\n",
              "    .dataframe tbody tr th:only-of-type {\n",
              "        vertical-align: middle;\n",
              "    }\n",
              "\n",
              "    .dataframe tbody tr th {\n",
              "        vertical-align: top;\n",
              "    }\n",
              "\n",
              "    .dataframe thead th {\n",
              "        text-align: right;\n",
              "    }\n",
              "</style>\n",
              "<table border=\"1\" class=\"dataframe\">\n",
              "  <thead>\n",
              "    <tr style=\"text-align: right;\">\n",
              "      <th></th>\n",
              "      <th>shop_1</th>\n",
              "      <th>shop_2</th>\n",
              "      <th>shop_3</th>\n",
              "      <th>shop_4</th>\n",
              "      <th>shop_5</th>\n",
              "      <th>shop_6</th>\n",
              "    </tr>\n",
              "    <tr>\n",
              "      <th>date</th>\n",
              "      <th></th>\n",
              "      <th></th>\n",
              "      <th></th>\n",
              "      <th></th>\n",
              "      <th></th>\n",
              "      <th></th>\n",
              "    </tr>\n",
              "  </thead>\n",
              "  <tbody>\n",
              "    <tr>\n",
              "      <th>31/01/12</th>\n",
              "      <td>1</td>\n",
              "      <td>0</td>\n",
              "      <td>0</td>\n",
              "      <td>0</td>\n",
              "      <td>0</td>\n",
              "      <td>0</td>\n",
              "    </tr>\n",
              "    <tr>\n",
              "      <th>31/01/12</th>\n",
              "      <td>1</td>\n",
              "      <td>0</td>\n",
              "      <td>0</td>\n",
              "      <td>0</td>\n",
              "      <td>0</td>\n",
              "      <td>0</td>\n",
              "    </tr>\n",
              "    <tr>\n",
              "      <th>31/01/12</th>\n",
              "      <td>1</td>\n",
              "      <td>0</td>\n",
              "      <td>0</td>\n",
              "      <td>0</td>\n",
              "      <td>0</td>\n",
              "      <td>0</td>\n",
              "    </tr>\n",
              "    <tr>\n",
              "      <th>31/01/12</th>\n",
              "      <td>1</td>\n",
              "      <td>0</td>\n",
              "      <td>0</td>\n",
              "      <td>0</td>\n",
              "      <td>0</td>\n",
              "      <td>0</td>\n",
              "    </tr>\n",
              "    <tr>\n",
              "      <th>31/01/12</th>\n",
              "      <td>1</td>\n",
              "      <td>0</td>\n",
              "      <td>0</td>\n",
              "      <td>0</td>\n",
              "      <td>0</td>\n",
              "      <td>0</td>\n",
              "    </tr>\n",
              "    <tr>\n",
              "      <th>...</th>\n",
              "      <td>...</td>\n",
              "      <td>...</td>\n",
              "      <td>...</td>\n",
              "      <td>...</td>\n",
              "      <td>...</td>\n",
              "      <td>...</td>\n",
              "    </tr>\n",
              "    <tr>\n",
              "      <th>31/12/17</th>\n",
              "      <td>0</td>\n",
              "      <td>0</td>\n",
              "      <td>1</td>\n",
              "      <td>0</td>\n",
              "      <td>0</td>\n",
              "      <td>0</td>\n",
              "    </tr>\n",
              "    <tr>\n",
              "      <th>31/12/17</th>\n",
              "      <td>0</td>\n",
              "      <td>0</td>\n",
              "      <td>0</td>\n",
              "      <td>0</td>\n",
              "      <td>1</td>\n",
              "      <td>0</td>\n",
              "    </tr>\n",
              "    <tr>\n",
              "      <th>31/12/17</th>\n",
              "      <td>0</td>\n",
              "      <td>0</td>\n",
              "      <td>0</td>\n",
              "      <td>0</td>\n",
              "      <td>0</td>\n",
              "      <td>1</td>\n",
              "    </tr>\n",
              "    <tr>\n",
              "      <th>31/12/17</th>\n",
              "      <td>0</td>\n",
              "      <td>0</td>\n",
              "      <td>0</td>\n",
              "      <td>1</td>\n",
              "      <td>0</td>\n",
              "      <td>0</td>\n",
              "    </tr>\n",
              "    <tr>\n",
              "      <th>31/12/17</th>\n",
              "      <td>0</td>\n",
              "      <td>0</td>\n",
              "      <td>0</td>\n",
              "      <td>1</td>\n",
              "      <td>0</td>\n",
              "      <td>0</td>\n",
              "    </tr>\n",
              "  </tbody>\n",
              "</table>\n",
              "<p>6480 rows × 6 columns</p>\n",
              "</div>"
            ],
            "text/plain": [
              "          shop_1  shop_2  shop_3  shop_4  shop_5  shop_6\n",
              "date                                                    \n",
              "31/01/12       1       0       0       0       0       0\n",
              "31/01/12       1       0       0       0       0       0\n",
              "31/01/12       1       0       0       0       0       0\n",
              "31/01/12       1       0       0       0       0       0\n",
              "31/01/12       1       0       0       0       0       0\n",
              "...          ...     ...     ...     ...     ...     ...\n",
              "31/12/17       0       0       1       0       0       0\n",
              "31/12/17       0       0       0       0       1       0\n",
              "31/12/17       0       0       0       0       0       1\n",
              "31/12/17       0       0       0       1       0       0\n",
              "31/12/17       0       0       0       1       0       0\n",
              "\n",
              "[6480 rows x 6 columns]"
            ]
          },
          "metadata": {},
          "execution_count": 128
        }
      ]
    },
    {
      "cell_type": "code",
      "source": [
        ""
      ],
      "metadata": {
        "id": "jFZmZ5ZXlWY0"
      },
      "execution_count": 128,
      "outputs": []
    },
    {
      "cell_type": "markdown",
      "source": [
        "# Now splitting the data Nested class for timeseries"
      ],
      "metadata": {
        "id": "Kwevh6xFma2e"
      }
    },
    {
      "cell_type": "code",
      "source": [
        "import logging\n",
        "\n",
        "class CustomTimeSeriesSplit:\n",
        "\n",
        "    def __init__(self,\n",
        "                 train_set_size: int,\n",
        "                 test_set_size: int\n",
        "                 ):\n",
        "        \"\"\"\n",
        "        :param train_set_size: data points (days) in each fold for the train set\n",
        "        :param test_set_size: data points (days) in each fold for the test set\n",
        "        \"\"\"\n",
        "        self.train_set_size = train_set_size\n",
        "        self.test_set_size = test_set_size\n",
        "        self._logger = logging.getLogger(__name__)\n",
        "\n",
        "    def split(self,\n",
        "              x: np.array,\n",
        "              y: np.array = None) -> (np.array, np.array):\n",
        "        \"\"\"Return train/test split indices.\n",
        "        :param x: time series to use for prediction, shape (n_samples, n_features)\n",
        "        :param y: time series to predict, shape (n_samples, n_features)\n",
        "        :return: (train_indices, test_indices)\n",
        "        Note: index of both x and y should be of type datetime.\n",
        "        \"\"\"\n",
        "        if y is not None:\n",
        "            assert x.index.equals(y.index)\n",
        "        split_points = self.get_split_points(x)\n",
        "        for split_point in split_points:\n",
        "            is_train = (x.index < split_point) & (x.index >= split_point -\n",
        "                                                  pd.Timedelta(self.train_set_size, unit='D'))\n",
        "            is_test = (x.index >= split_point) & (x.index < split_point +\n",
        "                                                  pd.Timedelta(self.test_set_size, unit='D'))\n",
        "            if not is_train.any() or not is_test.any():\n",
        "                self._logger.warning('Found %d train and %d test observations '\n",
        "                                     'skipping fold for split point %s',\n",
        "                                     is_train.sum(), is_test.sum(), split_point)\n",
        "                continue\n",
        "            dummy_ix = pd.Series(range(0, len(x)), index=x.index)\n",
        "            ix_train = dummy_ix.loc[is_train].values\n",
        "            ix_test = dummy_ix.loc[is_test].values\n",
        "            if ix_train is None or ix_test is None:\n",
        "                self._logger.warning('Found no data for train or test period, '\n",
        "                                     'skipping fold for split date %s',\n",
        "                                     split_point)\n",
        "                continue\n",
        "            yield ix_train, ix_test\n",
        "\n",
        "    def get_split_points(self, x: np.array) -> pd.DatetimeIndex:\n",
        "        \"\"\"Get all possible split point dates\"\"\"\n",
        "        start = x.index.min() + pd.Timedelta(self.train_set_size, unit='D')\n",
        "        end = x.index.max() - pd.Timedelta(self.test_set_size - 1, unit='D')\n",
        "        self._logger.info(f'Generating split points from {start} to {end}')\n",
        "        split_range = pd.date_range(start, end, freq='D')\n",
        "        first_split_point =  (len(split_range) + self.test_set_size - 1) % self.test_set_size\n",
        "        return split_range[first_split_point::self.test_set_size]"
      ],
      "metadata": {
        "id": "pczogM9ilffv"
      },
      "execution_count": 129,
      "outputs": []
    },
    {
      "cell_type": "code",
      "source": [
        ""
      ],
      "metadata": {
        "id": "SwJ8dAEdn_ZJ"
      },
      "execution_count": 129,
      "outputs": []
    },
    {
      "cell_type": "markdown",
      "source": [
        "# Nested CV timeseries Implementation"
      ],
      "metadata": {
        "id": "EsJ2Bc2opHlY"
      }
    },
    {
      "cell_type": "code",
      "source": [
        "%load_ext autoreload\n",
        "%autoreload 2\n",
        "\n",
        "import datetime as dt\n",
        "\n",
        "import matplotlib.pyplot as plt\n",
        "import numpy as np\n",
        "import pandas as pd\n",
        "import seaborn as sns\n",
        "from sklearn.linear_model import ElasticNet\n",
        "from sklearn.model_selection import GridSearchCV\n",
        "from sklearn.pipeline import Pipeline\n",
        "from sklearn.preprocessing import StandardScaler\n",
        "from sklearn.svm import SVR"
      ],
      "metadata": {
        "id": "jmW8u-iTobBD",
        "colab": {
          "base_uri": "https://localhost:8080/"
        },
        "outputId": "7f4266df-4539-4c38-8414-bfdb1f94ce7f"
      },
      "execution_count": 130,
      "outputs": [
        {
          "output_type": "stream",
          "name": "stdout",
          "text": [
            "The autoreload extension is already loaded. To reload it, use:\n",
            "  %reload_ext autoreload\n"
          ]
        }
      ]
    },
    {
      "cell_type": "code",
      "source": [
        "number_of_data_points = 200\n",
        "columns = ['car usage', 'train usage', 'taxi usage']\n",
        "date_index = pd.date_range(dt.datetime(2018,1,1), \n",
        "                           periods=number_of_data_points, \n",
        "                           freq='D')\n",
        "x = pd.DataFrame(np.random.rand(number_of_data_points, len(columns))*999,\n",
        "                 columns=columns,\n",
        "                 index=date_index)\n",
        "y = pd.Series(x.sum(axis=1) * .75 + np.random.randn(number_of_data_points)*100, name='travelers at the gate')\n",
        "\n",
        "fig, ax = plt.subplots(1, 1)\n",
        "for col in columns:\n",
        "    ax.plot(x[col], alpha=.5)\n",
        "ax.plot(y)\n",
        "ax.legend()\n",
        "plt.xticks(rotation=45);"
      ],
      "metadata": {
        "colab": {
          "base_uri": "https://localhost:8080/",
          "height": 309
        },
        "id": "GV3RJ4MtobFT",
        "outputId": "145d668a-e728-48ff-857d-3ef201ac4054"
      },
      "execution_count": 131,
      "outputs": [
        {
          "output_type": "stream",
          "name": "stderr",
          "text": [
            "No handles with labels found to put in legend.\n"
          ]
        },
        {
          "output_type": "display_data",
          "data": {
            "image/png": "[encoded data removed]",
            "text/plain": [
              "<Figure size 432x288 with 1 Axes>"
            ]
          },
          "metadata": {
            "needs_background": "light"
          }
        }
      ]
    },
    {
      "cell_type": "code",
      "source": [
        ""
      ],
      "metadata": {
        "id": "SjRFfbeqobH_"
      },
      "execution_count": 131,
      "outputs": []
    },
    {
      "cell_type": "markdown",
      "source": [
        "# Specify the sizes of train and test set and initialize the cross validators"
      ],
      "metadata": {
        "id": "ui5ImMFxphH5"
      }
    },
    {
      "cell_type": "code",
      "source": [
        "outer_train_set_size = 28\n",
        "outer_test_set_size = 7\n",
        "\n",
        "inner_train_set_size = 14\n",
        "inner_test_set_size = 7\n",
        "\n",
        "outer_loop_splitter = CustomTimeSeriesSplit(\n",
        "    train_set_size=outer_train_set_size,\n",
        "    test_set_size=outer_test_set_size)\n",
        "\n",
        "inner_loop_splitter = CustomTimeSeriesSplit(\n",
        "    train_set_size=inner_train_set_size,\n",
        "    test_set_size=inner_test_set_size)"
      ],
      "metadata": {
        "id": "oSjspgGWpi02"
      },
      "execution_count": 132,
      "outputs": []
    },
    {
      "cell_type": "code",
      "source": [
        ""
      ],
      "metadata": {
        "id": "kNeySfFUplc2"
      },
      "execution_count": 132,
      "outputs": []
    },
    {
      "cell_type": "markdown",
      "source": [
        "# Initialize algorithms: pipeline + parameter grid\n"
      ],
      "metadata": {
        "id": "m2Kyhj3oppaP"
      }
    },
    {
      "cell_type": "code",
      "source": [
        "# Initialize models\n",
        "model_1 = SVR()\n",
        "model_2 = ElasticNet()\n",
        "\n",
        "# Initialize pipelines\n",
        "pipeline_1 = Pipeline([('scaling', StandardScaler()),\n",
        "                       ('model', model_1)])\n",
        "pipeline_2 = Pipeline([('scaling', StandardScaler()),\n",
        "                       ('model', model_2)])\n",
        "\n",
        "# Initialize hyperparameter grids\n",
        "param_grid_1 = [{'model__kernel': ['rbf'],\n",
        "                 'model__C': np.power(10., np.arange(-4, 4)),\n",
        "                 'model__gamma': np.power(10., np.arange(-5, 0))},\n",
        "                {'model__kernel': ['linear'],\n",
        "                 'model__C': np.power(10., np.arange(-4, 4))}]\n",
        "param_grid_2 = [{'model__l1_ratio': [.1, .5, .7, .9, .95, .99, 1],\n",
        "                 'model__alpha': [.1, .5, 1, 10, 100]}]\n",
        "\n",
        "# Make a DataFrame to save all algorithms and include columns to save the results\n",
        "algorithms = {\n",
        "        'param_grid': [param_grid_1, param_grid_2],                                            \n",
        "        'pipeline': [pipeline_1, pipeline_2],\n",
        "    }\n",
        "algorithm_names = ['SVR', 'ElasticNet']\n",
        "algorithms_and_results = pd.DataFrame(algorithms, index=algorithm_names)\n",
        "for column in ['scores_cv_inner', 'scores_cv_outer']:\n",
        "    algorithms_and_results[column] = [[] for _ in range(len(algorithm_names))]\n",
        "algorithms_and_results\n"
      ],
      "metadata": {
        "colab": {
          "base_uri": "https://localhost:8080/",
          "height": 112
        },
        "id": "Hl-nc8LBprHP",
        "outputId": "e1bde3f7-b3d8-4e72-9dfb-c146fecb3c31"
      },
      "execution_count": 133,
      "outputs": [
        {
          "output_type": "execute_result",
          "data": {
            "text/html": [
              "<div>\n",
              "<style scoped>\n",
              "    .dataframe tbody tr th:only-of-type {\n",
              "        vertical-align: middle;\n",
              "    }\n",
              "\n",
              "    .dataframe tbody tr th {\n",
              "        vertical-align: top;\n",
              "    }\n",
              "\n",
              "    .dataframe thead th {\n",
              "        text-align: right;\n",
              "    }\n",
              "</style>\n",
              "<table border=\"1\" class=\"dataframe\">\n",
              "  <thead>\n",
              "    <tr style=\"text-align: right;\">\n",
              "      <th></th>\n",
              "      <th>param_grid</th>\n",
              "      <th>pipeline</th>\n",
              "      <th>scores_cv_inner</th>\n",
              "      <th>scores_cv_outer</th>\n",
              "    </tr>\n",
              "  </thead>\n",
              "  <tbody>\n",
              "    <tr>\n",
              "      <th>SVR</th>\n",
              "      <td>[{'model__kernel': ['rbf'], 'model__C': [0.000...</td>\n",
              "      <td>(StandardScaler(), SVR())</td>\n",
              "      <td>[]</td>\n",
              "      <td>[]</td>\n",
              "    </tr>\n",
              "    <tr>\n",
              "      <th>ElasticNet</th>\n",
              "      <td>[{'model__l1_ratio': [0.1, 0.5, 0.7, 0.9, 0.95...</td>\n",
              "      <td>(StandardScaler(), ElasticNet())</td>\n",
              "      <td>[]</td>\n",
              "      <td>[]</td>\n",
              "    </tr>\n",
              "  </tbody>\n",
              "</table>\n",
              "</div>"
            ],
            "text/plain": [
              "                                                   param_grid  ... scores_cv_outer\n",
              "SVR         [{'model__kernel': ['rbf'], 'model__C': [0.000...  ...              []\n",
              "ElasticNet  [{'model__l1_ratio': [0.1, 0.5, 0.7, 0.9, 0.95...  ...              []\n",
              "\n",
              "[2 rows x 4 columns]"
            ]
          },
          "metadata": {},
          "execution_count": 133
        }
      ]
    },
    {
      "cell_type": "code",
      "source": [
        ""
      ],
      "metadata": {
        "id": "Lj0chqyFpv-T"
      },
      "execution_count": 133,
      "outputs": []
    },
    {
      "cell_type": "markdown",
      "source": [
        "# Run the nested cross validation and save the results"
      ],
      "metadata": {
        "id": "T57dKgNypz1C"
      }
    },
    {
      "cell_type": "code",
      "source": [
        "# The outer loop for algorithm selection and performance estimation\n",
        "for outer_train_idx, outer_test_idx in outer_loop_splitter.split(x, y):\n",
        "    x_train = x.iloc[outer_train_idx]\n",
        "    y_train = y.iloc[outer_train_idx]\n",
        "    x_test = x.iloc[outer_test_idx]\n",
        "    y_test = y.iloc[outer_test_idx]\n",
        "\n",
        "    # The grid search estimators need to be rebuild each outer fold, because the inner loop\n",
        "    # cross validation can only be defined given the train set from the outer loop.\n",
        "    grid_search_cv_estimators = {}\n",
        "    for (name, param_grid, pipeline) in algorithms_and_results[['param_grid', 'pipeline']].itertuples():\n",
        "        \n",
        "        # The inner loop for hyperparameter tuning\n",
        "        grid_search_cv_estimator = GridSearchCV(\n",
        "            estimator=pipeline,\n",
        "            param_grid=param_grid,\n",
        "            scoring='r2',\n",
        "            cv=inner_loop_splitter.split(x_train, y_train),\n",
        "            n_jobs=4,\n",
        "            refit=True)\n",
        "        grid_search_cv_estimator.fit(x_train, y_train)\n",
        "\n",
        "        outer_score = grid_search_cv_estimator.score(x_test, y_test)\n",
        "        algorithms_and_results.loc[name, 'scores_cv_inner'].append(grid_search_cv_estimator.best_score_)\n",
        "        algorithms_and_results.loc[name, 'scores_cv_outer'].append(outer_score)\n",
        "algorithms_and_results"
      ],
      "metadata": {
        "colab": {
          "base_uri": "https://localhost:8080/",
          "height": 147
        },
        "id": "0i-zDZUbp2te",
        "outputId": "66ac2877-3a80-41f8-d672-8154c498731f"
      },
      "execution_count": 134,
      "outputs": [
        {
          "output_type": "execute_result",
          "data": {
            "text/html": [
              "<div>\n",
              "<style scoped>\n",
              "    .dataframe tbody tr th:only-of-type {\n",
              "        vertical-align: middle;\n",
              "    }\n",
              "\n",
              "    .dataframe tbody tr th {\n",
              "        vertical-align: top;\n",
              "    }\n",
              "\n",
              "    .dataframe thead th {\n",
              "        text-align: right;\n",
              "    }\n",
              "</style>\n",
              "<table border=\"1\" class=\"dataframe\">\n",
              "  <thead>\n",
              "    <tr style=\"text-align: right;\">\n",
              "      <th></th>\n",
              "      <th>param_grid</th>\n",
              "      <th>pipeline</th>\n",
              "      <th>scores_cv_inner</th>\n",
              "      <th>scores_cv_outer</th>\n",
              "    </tr>\n",
              "  </thead>\n",
              "  <tbody>\n",
              "    <tr>\n",
              "      <th>SVR</th>\n",
              "      <td>[{'model__kernel': ['rbf'], 'model__C': [0.000...</td>\n",
              "      <td>(StandardScaler(), SVR())</td>\n",
              "      <td>[0.8654673657180666, 0.8903335024770214, 0.920...</td>\n",
              "      <td>[0.9047923047561223, 0.9231492465179463, 0.916...</td>\n",
              "    </tr>\n",
              "    <tr>\n",
              "      <th>ElasticNet</th>\n",
              "      <td>[{'model__l1_ratio': [0.1, 0.5, 0.7, 0.9, 0.95...</td>\n",
              "      <td>(StandardScaler(), ElasticNet())</td>\n",
              "      <td>[0.8930233576592037, 0.9057079891865684, 0.915...</td>\n",
              "      <td>[0.8952235587219707, 0.9242586767422174, 0.931...</td>\n",
              "    </tr>\n",
              "  </tbody>\n",
              "</table>\n",
              "</div>"
            ],
            "text/plain": [
              "                                                   param_grid  ...                                    scores_cv_outer\n",
              "SVR         [{'model__kernel': ['rbf'], 'model__C': [0.000...  ...  [0.9047923047561223, 0.9231492465179463, 0.916...\n",
              "ElasticNet  [{'model__l1_ratio': [0.1, 0.5, 0.7, 0.9, 0.95...  ...  [0.8952235587219707, 0.9242586767422174, 0.931...\n",
              "\n",
              "[2 rows x 4 columns]"
            ]
          },
          "metadata": {},
          "execution_count": 134
        }
      ]
    },
    {
      "cell_type": "code",
      "source": [
        ""
      ],
      "metadata": {
        "id": "Ztg1buv6p6GI"
      },
      "execution_count": 134,
      "outputs": []
    },
    {
      "cell_type": "markdown",
      "source": [
        "# Combine the results"
      ],
      "metadata": {
        "id": "ZrMKYD_zp9v_"
      }
    },
    {
      "cell_type": "code",
      "source": [
        "for agg_function in [np.mean, np.median, np.std]:\n",
        "    for column in ['scores_cv_outer', 'scores_cv_inner']:\n",
        "        aggregation_dict = {column + '_' + agg_function.__name__: lambda df: df[column].map(agg_function)}\n",
        "        algorithms_and_results = algorithms_and_results.assign(**aggregation_dict)\n",
        "algorithms_and_results.T"
      ],
      "metadata": {
        "colab": {
          "base_uri": "https://localhost:8080/",
          "height": 363
        },
        "id": "eXN8usfqp_gD",
        "outputId": "3f811ce3-991f-4cf0-ce1c-1f71a34c417d"
      },
      "execution_count": 135,
      "outputs": [
        {
          "output_type": "execute_result",
          "data": {
            "text/html": [
              "<div>\n",
              "<style scoped>\n",
              "    .dataframe tbody tr th:only-of-type {\n",
              "        vertical-align: middle;\n",
              "    }\n",
              "\n",
              "    .dataframe tbody tr th {\n",
              "        vertical-align: top;\n",
              "    }\n",
              "\n",
              "    .dataframe thead th {\n",
              "        text-align: right;\n",
              "    }\n",
              "</style>\n",
              "<table border=\"1\" class=\"dataframe\">\n",
              "  <thead>\n",
              "    <tr style=\"text-align: right;\">\n",
              "      <th></th>\n",
              "      <th>SVR</th>\n",
              "      <th>ElasticNet</th>\n",
              "    </tr>\n",
              "  </thead>\n",
              "  <tbody>\n",
              "    <tr>\n",
              "      <th>param_grid</th>\n",
              "      <td>[{'model__kernel': ['rbf'], 'model__C': [0.000...</td>\n",
              "      <td>[{'model__l1_ratio': [0.1, 0.5, 0.7, 0.9, 0.95...</td>\n",
              "    </tr>\n",
              "    <tr>\n",
              "      <th>pipeline</th>\n",
              "      <td>(StandardScaler(), SVR())</td>\n",
              "      <td>(StandardScaler(), ElasticNet())</td>\n",
              "    </tr>\n",
              "    <tr>\n",
              "      <th>scores_cv_inner</th>\n",
              "      <td>[0.8654673657180666, 0.8903335024770214, 0.920...</td>\n",
              "      <td>[0.8930233576592037, 0.9057079891865684, 0.915...</td>\n",
              "    </tr>\n",
              "    <tr>\n",
              "      <th>scores_cv_outer</th>\n",
              "      <td>[0.9047923047561223, 0.9231492465179463, 0.916...</td>\n",
              "      <td>[0.8952235587219707, 0.9242586767422174, 0.931...</td>\n",
              "    </tr>\n",
              "    <tr>\n",
              "      <th>scores_cv_outer_mean</th>\n",
              "      <td>0.87793</td>\n",
              "      <td>0.867019</td>\n",
              "    </tr>\n",
              "    <tr>\n",
              "      <th>scores_cv_inner_mean</th>\n",
              "      <td>0.858615</td>\n",
              "      <td>0.878417</td>\n",
              "    </tr>\n",
              "    <tr>\n",
              "      <th>scores_cv_outer_median</th>\n",
              "      <td>0.915176</td>\n",
              "      <td>0.901981</td>\n",
              "    </tr>\n",
              "    <tr>\n",
              "      <th>scores_cv_inner_median</th>\n",
              "      <td>0.885347</td>\n",
              "      <td>0.892367</td>\n",
              "    </tr>\n",
              "    <tr>\n",
              "      <th>scores_cv_outer_std</th>\n",
              "      <td>0.0964652</td>\n",
              "      <td>0.117949</td>\n",
              "    </tr>\n",
              "    <tr>\n",
              "      <th>scores_cv_inner_std</th>\n",
              "      <td>0.0792787</td>\n",
              "      <td>0.0654991</td>\n",
              "    </tr>\n",
              "  </tbody>\n",
              "</table>\n",
              "</div>"
            ],
            "text/plain": [
              "                                                                      SVR                                         ElasticNet\n",
              "param_grid              [{'model__kernel': ['rbf'], 'model__C': [0.000...  [{'model__l1_ratio': [0.1, 0.5, 0.7, 0.9, 0.95...\n",
              "pipeline                                        (StandardScaler(), SVR())                   (StandardScaler(), ElasticNet())\n",
              "scores_cv_inner         [0.8654673657180666, 0.8903335024770214, 0.920...  [0.8930233576592037, 0.9057079891865684, 0.915...\n",
              "scores_cv_outer         [0.9047923047561223, 0.9231492465179463, 0.916...  [0.8952235587219707, 0.9242586767422174, 0.931...\n",
              "scores_cv_outer_mean                                              0.87793                                           0.867019\n",
              "scores_cv_inner_mean                                             0.858615                                           0.878417\n",
              "scores_cv_outer_median                                           0.915176                                           0.901981\n",
              "scores_cv_inner_median                                           0.885347                                           0.892367\n",
              "scores_cv_outer_std                                             0.0964652                                           0.117949\n",
              "scores_cv_inner_std                                             0.0792787                                          0.0654991"
            ]
          },
          "metadata": {},
          "execution_count": 135
        }
      ]
    },
    {
      "cell_type": "code",
      "source": [
        ""
      ],
      "metadata": {
        "id": "JInT7BXVqChx"
      },
      "execution_count": 135,
      "outputs": []
    },
    {
      "cell_type": "markdown",
      "source": [
        "# Select the best algorithm on metric of choice (here mean outer score)"
      ],
      "metadata": {
        "id": "l3nUWLf-qF09"
      }
    },
    {
      "cell_type": "code",
      "source": [
        "best_algorithm_name = algorithms_and_results['scores_cv_outer_mean'].idxmax()\n",
        "best_pipeline = algorithms_and_results.loc[best_algorithm_name, 'pipeline']\n",
        "best_param_grid = algorithms_and_results.loc[best_algorithm_name, 'param_grid']\n",
        "print(f'Choose best estimater: {best_algorithm_name}')"
      ],
      "metadata": {
        "colab": {
          "base_uri": "https://localhost:8080/"
        },
        "id": "o3wGSlr0qIrU",
        "outputId": "ad4f6337-05cb-486d-aaeb-4e1ea9216568"
      },
      "execution_count": 136,
      "outputs": [
        {
          "output_type": "stream",
          "name": "stdout",
          "text": [
            "Choose best estimater: SVR\n"
          ]
        }
      ]
    },
    {
      "cell_type": "code",
      "source": [
        ""
      ],
      "metadata": {
        "id": "pQRWbIM9qNAT"
      },
      "execution_count": 136,
      "outputs": []
    },
    {
      "cell_type": "markdown",
      "source": [
        "# Expected score"
      ],
      "metadata": {
        "id": "M1VMwbp0qP2u"
      }
    },
    {
      "cell_type": "code",
      "source": [
        "scores, mean_score = algorithms_and_results.loc[best_algorithm_name, ['scores_cv_outer', 'scores_cv_outer_mean']]\n",
        "ax = sns.distplot(scores)\n",
        "ax.set_title(f'Expected score for {best_algorithm_name}')\n",
        "ax.axvline(mean_score, dashes=[6, 2], label=f'Mean score: {round(mean_score,2)}')\n",
        "ax.legend();\n"
      ],
      "metadata": {
        "colab": {
          "base_uri": "https://localhost:8080/",
          "height": 336
        },
        "id": "TCMoonASqRwi",
        "outputId": "fe139451-f6d1-424a-cc65-d0d6fe0c6cef"
      },
      "execution_count": 137,
      "outputs": [
        {
          "output_type": "stream",
          "name": "stderr",
          "text": [
            "/usr/local/lib/python3.7/dist-packages/seaborn/distributions.py:2619: FutureWarning: `distplot` is a deprecated function and will be removed in a future version. Please adapt your code to use either `displot` (a figure-level function with similar flexibility) or `histplot` (an axes-level function for histograms).\n",
            "  warnings.warn(msg, FutureWarning)\n"
          ]
        },
        {
          "output_type": "display_data",
          "data": {
            "image/png": "[encoded data removed]",
            "text/plain": [
              "<Figure size 432x288 with 1 Axes>"
            ]
          },
          "metadata": {
            "needs_background": "light"
          }
        }
      ]
    },
    {
      "cell_type": "code",
      "source": [
        ""
      ],
      "metadata": {
        "id": "8tFuK_wIqVly"
      },
      "execution_count": 137,
      "outputs": []
    },
    {
      "cell_type": "markdown",
      "source": [
        "# Search for final hyperparameters on most recent 'outer train set size' data points"
      ],
      "metadata": {
        "id": "pOT2kHUtqao9"
      }
    },
    {
      "cell_type": "code",
      "source": [
        "x_most_recent = x.iloc[-outer_train_set_size:]\n",
        "y_most_recent = y.iloc[-outer_train_set_size:]\n",
        "    \n",
        "grid_search_cv_estimator = GridSearchCV(\n",
        "    estimator=best_pipeline,\n",
        "    param_grid=best_param_grid,\n",
        "    scoring='r2',\n",
        "    cv=inner_loop_splitter.split(x_most_recent, y_most_recent),\n",
        "    n_jobs=4,\n",
        "    refit=True)\n",
        "grid_search_cv_estimator.fit(x_most_recent, y_most_recent)\n",
        "print(f'Final hyperparameters: {grid_search_cv_estimator.best_params_}')"
      ],
      "metadata": {
        "colab": {
          "base_uri": "https://localhost:8080/"
        },
        "id": "Xe7qxy8YqcTu",
        "outputId": "01fe63d9-bb77-49b5-eacc-f0139cfee728"
      },
      "execution_count": 138,
      "outputs": [
        {
          "output_type": "stream",
          "name": "stdout",
          "text": [
            "Final hyperparameters: {'model__C': 1000.0, 'model__gamma': 0.1, 'model__kernel': 'rbf'}\n"
          ]
        }
      ]
    },
    {
      "cell_type": "code",
      "source": [
        "\n",
        "shop=df_train['shop'].value_counts\n",
        "shop"
      ],
      "metadata": {
        "id": "z9RfZcUXqfa3",
        "colab": {
          "base_uri": "https://localhost:8080/"
        },
        "outputId": "ba8f2778-3449-458a-9640-233920d3c44e"
      },
      "execution_count": 139,
      "outputs": [
        {
          "output_type": "execute_result",
          "data": {
            "text/plain": [
              "<bound method IndexOpsMixin.value_counts of date\n",
              "31/01/12    shop_1\n",
              "31/01/12    shop_1\n",
              "31/01/12    shop_1\n",
              "31/01/12    shop_1\n",
              "31/01/12    shop_1\n",
              "             ...  \n",
              "31/12/17    shop_3\n",
              "31/12/17    shop_5\n",
              "31/12/17    shop_6\n",
              "31/12/17    shop_4\n",
              "31/12/17    shop_4\n",
              "Name: shop, Length: 6480, dtype: object>"
            ]
          },
          "metadata": {},
          "execution_count": 139
        }
      ]
    },
    {
      "cell_type": "code",
      "source": [
        "# here I want to finding the quantity of each shop\n",
        "quantity = df_train['capacity'].value_counts"
      ],
      "metadata": {
        "id": "1FjEjBt9OLqq"
      },
      "execution_count": 159,
      "outputs": []
    },
    {
      "cell_type": "code",
      "source": [
        "# Here I am finding for average quantity of the shops\n",
        "avgsales = df_train.groupby('shop')['quantity'].mean()"
      ],
      "metadata": {
        "id": "wBKb6sz_OwfU"
      },
      "execution_count": 173,
      "outputs": []
    },
    {
      "cell_type": "code",
      "source": [
        "x = list(avgsales.index)\n",
        "y = list(avgsales.values)"
      ],
      "metadata": {
        "id": "kVyzi0slO96t"
      },
      "execution_count": 174,
      "outputs": []
    },
    {
      "cell_type": "code",
      "source": [
        "plt.xlabel('Shops')\n",
        "plt.ylabel('Quantity of each shop')\n",
        "sns.lineplot(x,y)\n",
        "plt.show()\n",
        "# I am ploting the graph for each shop by using the time trands"
      ],
      "metadata": {
        "colab": {
          "base_uri": "https://localhost:8080/",
          "height": 335
        },
        "id": "kWei7G31SCtX",
        "outputId": "4713c504-f3bf-4634-dd5b-87a4ec19c56c"
      },
      "execution_count": 175,
      "outputs": [
        {
          "output_type": "stream",
          "name": "stderr",
          "text": [
            "/usr/local/lib/python3.7/dist-packages/seaborn/_decorators.py:43: FutureWarning: Pass the following variables as keyword args: x, y. From version 0.12, the only valid positional argument will be `data`, and passing other arguments without an explicit keyword will result in an error or misinterpretation.\n",
            "  FutureWarning\n"
          ]
        },
        {
          "output_type": "display_data",
          "data": {
            "image/png": "[encoded data removed]",
            "text/plain": [
              "<Figure size 432x288 with 1 Axes>"
            ]
          },
          "metadata": {
            "needs_background": "light"
          }
        }
      ]
    },
    {
      "cell_type": "markdown",
      "source": [
        "# Shop 6 is having the highest quantity for sales in given data"
      ],
      "metadata": {
        "id": "Am0ibqo-Szcf"
      }
    },
    {
      "cell_type": "code",
      "source": [
        "for i in avgsales:\n",
        "  print(i)"
      ],
      "metadata": {
        "colab": {
          "base_uri": "https://localhost:8080/"
        },
        "id": "4xc06yJUT_s3",
        "outputId": "e8a8292d-ae3d-4c57-c8f1-5d8815e2fb2b"
      },
      "execution_count": 176,
      "outputs": [
        {
          "output_type": "stream",
          "name": "stdout",
          "text": [
            "24968.50023148148\n",
            "29015.758449074074\n",
            "20291.790625\n",
            "30945.763078703705\n",
            "23141.789699074074\n",
            "35657.05034722222\n"
          ]
        }
      ]
    },
    {
      "cell_type": "markdown",
      "source": [
        "# # shop 6 is having the highest quantity that is 35657.05034722222"
      ],
      "metadata": {
        "id": "JQA4ge52VSuX"
      }
    },
    {
      "cell_type": "code",
      "source": [
        "plt.xlabel('shops')\n",
        "plt.ylabel('Quantity of each shop')\n",
        "plt.bar(x,y)\n",
        "plt.show()"
      ],
      "metadata": {
        "colab": {
          "base_uri": "https://localhost:8080/",
          "height": 280
        },
        "id": "uRqXetG6VUi2",
        "outputId": "99cb0920-5c72-41d4-cc6c-49997aaa4c36"
      },
      "execution_count": 177,
      "outputs": [
        {
          "output_type": "display_data",
          "data": {
            "image/png": "[encoded data removed]",
            "text/plain": [
              "<Figure size 432x288 with 1 Axes>"
            ]
          },
          "metadata": {
            "needs_background": "light"
          }
        }
      ]
    },
    {
      "cell_type": "code",
      "source": [
        ""
      ],
      "metadata": {
        "id": "ViLfbLpYW_-x"
      },
      "execution_count": 177,
      "outputs": []
    }
  ]
}