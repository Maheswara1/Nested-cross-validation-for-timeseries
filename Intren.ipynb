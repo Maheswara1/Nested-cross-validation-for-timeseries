{
  "nbformat": 4,
  "nbformat_minor": 0,
  "metadata": {
    "colab": {
      "name": "Intren.ipynb",
      "provenance": []
    },
    "kernelspec": {
      "name": "python3",
      "display_name": "Python 3"
    },
    "language_info": {
      "name": "python"
    }
  },
  "cells": [
    {
      "cell_type": "code",
      "source": [
        "import pandas as pd \n",
        "import numpy as np\n",
        "import matplotlib.pyplot as plt\n",
        "import seaborn as sns"
      ],
      "metadata": {
        "id": "pMWkOORJ2_tL"
      },
      "execution_count": 495,
      "outputs": []
    },
    {
      "cell_type": "code",
      "source": [
        "# read the dataset By Using pandas here training dataset\n",
        "df_train = pd.read_csv('/content/train (1).csv')\n"
      ],
      "metadata": {
        "id": "lJZJsAt53KYC"
      },
      "execution_count": 496,
      "outputs": []
    },
    {
      "cell_type": "code",
      "source": [
        "# here the capacity column conataining the  int and str elemenest so I want to taking numerical data only\n",
        "res = df_train['capacity'].str.extract(r'(?i)(?P<Amount>\\d+(?:\\.\\d+)?)\\s?(?P<Unit>[CM]?L|LTR)\\b')\n",
        "res.Unit = res.Unit.str.lower()\n",
        "df_train['capacity'] = res['Amount']"
      ],
      "metadata": {
        "id": "LXOf5kSlKNHM"
      },
      "execution_count": 497,
      "outputs": []
    },
    {
      "cell_type": "code",
      "source": [
        "# here  I want to change the data types of some columns because some columns are are object type but actually those are float\n",
        "df_train['lat'] = df_train['lat'].astype(float, errors = 'raise')\n",
        "df_train['long'] = df_train['long'].astype(float, errors = 'raise')\n",
        "df_train['pop'] = df_train['pop'].astype(float, errors = 'raise')\n",
        "df_train['capacity'] = df_train['capacity'].astype(float, errors = 'raise')\n",
        "\n",
        "df_train['date'] = pd.to_datetime(df_train['date'])"
      ],
      "metadata": {
        "id": "Ppa44Ok5LUwi"
      },
      "execution_count": 498,
      "outputs": []
    },
    {
      "cell_type": "code",
      "source": [
        "df_train.info()"
      ],
      "metadata": {
        "colab": {
          "base_uri": "https://localhost:8080/"
        },
        "id": "Dpc58QR_KNMO",
        "outputId": "d747ac0b-7bdf-4566-d960-ac22914eebbc"
      },
      "execution_count": 499,
      "outputs": [
        {
          "output_type": "stream",
          "name": "stdout",
          "text": [
            "<class 'pandas.core.frame.DataFrame'>\n",
            "RangeIndex: 7560 entries, 0 to 7559\n",
            "Data columns (total 12 columns):\n",
            " #   Column     Non-Null Count  Dtype         \n",
            "---  ------     --------------  -----         \n",
            " 0   id         6480 non-null   float64       \n",
            " 1   date       6480 non-null   datetime64[ns]\n",
            " 2   city       6480 non-null   object        \n",
            " 3   lat        6429 non-null   float64       \n",
            " 4   long       6434 non-null   float64       \n",
            " 5   pop        6480 non-null   float64       \n",
            " 6   shop       6480 non-null   object        \n",
            " 7   brand      6480 non-null   object        \n",
            " 8   container  6464 non-null   object        \n",
            " 9   capacity   4308 non-null   float64       \n",
            " 10  price      6480 non-null   float64       \n",
            " 11  quantity   6480 non-null   float64       \n",
            "dtypes: datetime64[ns](1), float64(7), object(4)\n",
            "memory usage: 708.9+ KB\n"
          ]
        }
      ]
    },
    {
      "cell_type": "code",
      "source": [
        "df_train.head()"
      ],
      "metadata": {
        "colab": {
          "base_uri": "https://localhost:8080/",
          "height": 206
        },
        "id": "yDXW8K3dKNav",
        "outputId": "b8340446-8d70-4b45-82a8-53262c95a2c6"
      },
      "execution_count": 500,
      "outputs": [
        {
          "output_type": "execute_result",
          "data": {
            "text/html": [
              "<div>\n",
              "<style scoped>\n",
              "    .dataframe tbody tr th:only-of-type {\n",
              "        vertical-align: middle;\n",
              "    }\n",
              "\n",
              "    .dataframe tbody tr th {\n",
              "        vertical-align: top;\n",
              "    }\n",
              "\n",
              "    .dataframe thead th {\n",
              "        text-align: right;\n",
              "    }\n",
              "</style>\n",
              "<table border=\"1\" class=\"dataframe\">\n",
              "  <thead>\n",
              "    <tr style=\"text-align: right;\">\n",
              "      <th></th>\n",
              "      <th>id</th>\n",
              "      <th>date</th>\n",
              "      <th>city</th>\n",
              "      <th>lat</th>\n",
              "      <th>long</th>\n",
              "      <th>pop</th>\n",
              "      <th>shop</th>\n",
              "      <th>brand</th>\n",
              "      <th>container</th>\n",
              "      <th>capacity</th>\n",
              "      <th>price</th>\n",
              "      <th>quantity</th>\n",
              "    </tr>\n",
              "  </thead>\n",
              "  <tbody>\n",
              "    <tr>\n",
              "      <th>0</th>\n",
              "      <td>0.0</td>\n",
              "      <td>2012-01-31</td>\n",
              "      <td>Athens</td>\n",
              "      <td>37.97945</td>\n",
              "      <td>23.71622</td>\n",
              "      <td>672130.0</td>\n",
              "      <td>shop_1</td>\n",
              "      <td>kinder-cola</td>\n",
              "      <td>glass</td>\n",
              "      <td>500.0</td>\n",
              "      <td>0.96</td>\n",
              "      <td>13280.0</td>\n",
              "    </tr>\n",
              "    <tr>\n",
              "      <th>1</th>\n",
              "      <td>1.0</td>\n",
              "      <td>2012-01-31</td>\n",
              "      <td>Athens</td>\n",
              "      <td>37.97945</td>\n",
              "      <td>23.71622</td>\n",
              "      <td>672130.0</td>\n",
              "      <td>shop_1</td>\n",
              "      <td>kinder-cola</td>\n",
              "      <td>plastic</td>\n",
              "      <td>NaN</td>\n",
              "      <td>2.86</td>\n",
              "      <td>6727.0</td>\n",
              "    </tr>\n",
              "    <tr>\n",
              "      <th>2</th>\n",
              "      <td>2.0</td>\n",
              "      <td>2012-01-31</td>\n",
              "      <td>Athens</td>\n",
              "      <td>37.97945</td>\n",
              "      <td>23.71622</td>\n",
              "      <td>672130.0</td>\n",
              "      <td>shop_1</td>\n",
              "      <td>kinder-cola</td>\n",
              "      <td>can</td>\n",
              "      <td>330.0</td>\n",
              "      <td>0.87</td>\n",
              "      <td>9848.0</td>\n",
              "    </tr>\n",
              "    <tr>\n",
              "      <th>3</th>\n",
              "      <td>3.0</td>\n",
              "      <td>2012-01-31</td>\n",
              "      <td>Athens</td>\n",
              "      <td>37.97945</td>\n",
              "      <td>23.71622</td>\n",
              "      <td>672130.0</td>\n",
              "      <td>shop_1</td>\n",
              "      <td>adult-cola</td>\n",
              "      <td>glass</td>\n",
              "      <td>500.0</td>\n",
              "      <td>1.00</td>\n",
              "      <td>20050.0</td>\n",
              "    </tr>\n",
              "    <tr>\n",
              "      <th>4</th>\n",
              "      <td>4.0</td>\n",
              "      <td>2012-01-31</td>\n",
              "      <td>Athens</td>\n",
              "      <td>37.97945</td>\n",
              "      <td>23.71622</td>\n",
              "      <td>672130.0</td>\n",
              "      <td>shop_1</td>\n",
              "      <td>adult-cola</td>\n",
              "      <td>can</td>\n",
              "      <td>330.0</td>\n",
              "      <td>0.39</td>\n",
              "      <td>25696.0</td>\n",
              "    </tr>\n",
              "  </tbody>\n",
              "</table>\n",
              "</div>"
            ],
            "text/plain": [
              "    id       date    city       lat  ...  container  capacity price quantity\n",
              "0  0.0 2012-01-31  Athens  37.97945  ...      glass     500.0  0.96  13280.0\n",
              "1  1.0 2012-01-31  Athens  37.97945  ...    plastic       NaN  2.86   6727.0\n",
              "2  2.0 2012-01-31  Athens  37.97945  ...        can     330.0  0.87   9848.0\n",
              "3  3.0 2012-01-31  Athens  37.97945  ...      glass     500.0  1.00  20050.0\n",
              "4  4.0 2012-01-31  Athens  37.97945  ...        can     330.0  0.39  25696.0\n",
              "\n",
              "[5 rows x 12 columns]"
            ]
          },
          "metadata": {},
          "execution_count": 500
        }
      ]
    },
    {
      "cell_type": "code",
      "source": [
        ""
      ],
      "metadata": {
        "id": "25oetvmNTNZM"
      },
      "execution_count": 500,
      "outputs": []
    },
    {
      "cell_type": "code",
      "source": [
        ""
      ],
      "metadata": {
        "id": "A2wosKurV8OK"
      },
      "execution_count": 500,
      "outputs": []
    },
    {
      "cell_type": "code",
      "source": [
        "df_train  = df_train.dropna(how = 'all') # after row 6479, all the values are Nan."
      ],
      "metadata": {
        "id": "jvkU7AQ38-Ni"
      },
      "execution_count": 501,
      "outputs": []
    },
    {
      "cell_type": "code",
      "source": [
        "# I want see the null values in the data\n",
        "df_train.info()"
      ],
      "metadata": {
        "colab": {
          "base_uri": "https://localhost:8080/"
        },
        "id": "EcFCmxhO3w30",
        "outputId": "a7509797-fce7-4cc4-df95-8cb56aeabfaa"
      },
      "execution_count": 502,
      "outputs": [
        {
          "output_type": "stream",
          "name": "stdout",
          "text": [
            "<class 'pandas.core.frame.DataFrame'>\n",
            "Int64Index: 6480 entries, 0 to 6479\n",
            "Data columns (total 12 columns):\n",
            " #   Column     Non-Null Count  Dtype         \n",
            "---  ------     --------------  -----         \n",
            " 0   id         6480 non-null   float64       \n",
            " 1   date       6480 non-null   datetime64[ns]\n",
            " 2   city       6480 non-null   object        \n",
            " 3   lat        6429 non-null   float64       \n",
            " 4   long       6434 non-null   float64       \n",
            " 5   pop        6480 non-null   float64       \n",
            " 6   shop       6480 non-null   object        \n",
            " 7   brand      6480 non-null   object        \n",
            " 8   container  6464 non-null   object        \n",
            " 9   capacity   4308 non-null   float64       \n",
            " 10  price      6480 non-null   float64       \n",
            " 11  quantity   6480 non-null   float64       \n",
            "dtypes: datetime64[ns](1), float64(7), object(4)\n",
            "memory usage: 658.1+ KB\n"
          ]
        }
      ]
    },
    {
      "cell_type": "code",
      "source": [
        "# finding the shape of the data \n",
        "df_train.shape"
      ],
      "metadata": {
        "colab": {
          "base_uri": "https://localhost:8080/"
        },
        "id": "8R7OzkRc4KTh",
        "outputId": "c1a696d2-ad70-4561-b71c-9f4317912f30"
      },
      "execution_count": 503,
      "outputs": [
        {
          "output_type": "execute_result",
          "data": {
            "text/plain": [
              "(6480, 12)"
            ]
          },
          "metadata": {},
          "execution_count": 503
        }
      ]
    },
    {
      "cell_type": "code",
      "source": [
        "## Here we will check the percentage of nan values present in each feature\n",
        "## 1 -step make the list of features which has missing values\n",
        "features_with_na=[features for features in df_train.columns if df_train[features].isnull().sum()>1]\n",
        "## 2- step print the feature name and the percentage of missing values\n",
        "\n",
        "for feature in features_with_na:\n",
        "    print(feature, np.round(df[feature].isnull().mean(), 4),  ' % missing values')"
      ],
      "metadata": {
        "colab": {
          "base_uri": "https://localhost:8080/"
        },
        "id": "NNocF94W4Umn",
        "outputId": "b57bf32b-9445-4cd9-de54-f227da5013f7"
      },
      "execution_count": 504,
      "outputs": [
        {
          "output_type": "stream",
          "name": "stdout",
          "text": [
            "lat 0.0011  % missing values\n",
            "long 0.0017  % missing values\n",
            "container 0.0004  % missing values\n",
            "capacity 0.0481  % missing values\n"
          ]
        }
      ]
    },
    {
      "cell_type": "code",
      "source": [
        "# I want to fill the missing values with mean\n",
        "df_train['lat'].fillna(df_train['lat'].mean,inplace=True)\n",
        "df_train['long'].fillna(df_train['long'].mean,inplace=True)\n",
        "df_train['capacity'].fillna(df_train['capacity'].mean,inplace=True)\n",
        "df_train['container'].fillna(df_train['container'].mode,inplace=True)"
      ],
      "metadata": {
        "id": "v4qL6KiX-BtY",
        "colab": {
          "base_uri": "https://localhost:8080/"
        },
        "outputId": "7604f434-646b-44b2-fe69-a9e370e9e1f9"
      },
      "execution_count": 505,
      "outputs": [
        {
          "output_type": "stream",
          "name": "stderr",
          "text": [
            "/usr/local/lib/python3.7/dist-packages/pandas/core/series.py:4536: SettingWithCopyWarning: \n",
            "A value is trying to be set on a copy of a slice from a DataFrame\n",
            "\n",
            "See the caveats in the documentation: https://pandas.pydata.org/pandas-docs/stable/user_guide/indexing.html#returning-a-view-versus-a-copy\n",
            "  downcast=downcast,\n"
          ]
        }
      ]
    },
    {
      "cell_type": "code",
      "source": [
        "# finall check for null values\n",
        "df_train.isnull().sum()"
      ],
      "metadata": {
        "colab": {
          "base_uri": "https://localhost:8080/"
        },
        "id": "pO07igkxCoPB",
        "outputId": "7649af95-de11-40fb-f825-088eaddbba02"
      },
      "execution_count": 506,
      "outputs": [
        {
          "output_type": "execute_result",
          "data": {
            "text/plain": [
              "id           0\n",
              "date         0\n",
              "city         0\n",
              "lat          0\n",
              "long         0\n",
              "pop          0\n",
              "shop         0\n",
              "brand        0\n",
              "container    0\n",
              "capacity     0\n",
              "price        0\n",
              "quantity     0\n",
              "dtype: int64"
            ]
          },
          "metadata": {},
          "execution_count": 506
        }
      ]
    },
    {
      "cell_type": "code",
      "source": [
        "df_train.shape"
      ],
      "metadata": {
        "colab": {
          "base_uri": "https://localhost:8080/"
        },
        "id": "Jx165IGYDNij",
        "outputId": "3f15db4b-71c3-42d9-d57c-f8dbc6702d96"
      },
      "execution_count": 507,
      "outputs": [
        {
          "output_type": "execute_result",
          "data": {
            "text/plain": [
              "(6480, 12)"
            ]
          },
          "metadata": {},
          "execution_count": 507
        }
      ]
    },
    {
      "cell_type": "code",
      "source": [
        "df_train.info()"
      ],
      "metadata": {
        "colab": {
          "base_uri": "https://localhost:8080/"
        },
        "id": "t3-BljQmDQW9",
        "outputId": "a66d12b9-13d9-4ab2-d0ae-81f8b5f67715"
      },
      "execution_count": 508,
      "outputs": [
        {
          "output_type": "stream",
          "name": "stdout",
          "text": [
            "<class 'pandas.core.frame.DataFrame'>\n",
            "Int64Index: 6480 entries, 0 to 6479\n",
            "Data columns (total 12 columns):\n",
            " #   Column     Non-Null Count  Dtype         \n",
            "---  ------     --------------  -----         \n",
            " 0   id         6480 non-null   float64       \n",
            " 1   date       6480 non-null   datetime64[ns]\n",
            " 2   city       6480 non-null   object        \n",
            " 3   lat        6480 non-null   object        \n",
            " 4   long       6480 non-null   object        \n",
            " 5   pop        6480 non-null   float64       \n",
            " 6   shop       6480 non-null   object        \n",
            " 7   brand      6480 non-null   object        \n",
            " 8   container  6480 non-null   object        \n",
            " 9   capacity   6480 non-null   object        \n",
            " 10  price      6480 non-null   float64       \n",
            " 11  quantity   6480 non-null   float64       \n",
            "dtypes: datetime64[ns](1), float64(4), object(7)\n",
            "memory usage: 658.1+ KB\n"
          ]
        }
      ]
    },
    {
      "cell_type": "code",
      "source": [
        "# finding the outliers in the data\n",
        "df_train.boxplot()"
      ],
      "metadata": {
        "colab": {
          "base_uri": "https://localhost:8080/",
          "height": 285
        },
        "id": "uo_LPYU2KFw0",
        "outputId": "470bd866-3eca-4d05-c0a5-9a60a1b01e57"
      },
      "execution_count": 509,
      "outputs": [
        {
          "output_type": "execute_result",
          "data": {
            "text/plain": [
              "<matplotlib.axes._subplots.AxesSubplot at 0x7fa0145f3290>"
            ]
          },
          "metadata": {},
          "execution_count": 509
        },
        {
          "output_type": "display_data",
          "data": {
            "image/png": "[encoded data removed]",
            "text/plain": [
              "<Figure size 432x288 with 1 Axes>"
            ]
          },
          "metadata": {
            "needs_background": "light"
          }
        }
      ]
    },
    {
      "cell_type": "code",
      "source": [
        "# I want to clean the outliers also \n",
        "df_train.describe()"
      ],
      "metadata": {
        "colab": {
          "base_uri": "https://localhost:8080/",
          "height": 300
        },
        "id": "vVUsZndEOzKS",
        "outputId": "bc858bb3-9a4f-4386-ffe8-fb6bec5cbccf"
      },
      "execution_count": 510,
      "outputs": [
        {
          "output_type": "execute_result",
          "data": {
            "text/html": [
              "<div>\n",
              "<style scoped>\n",
              "    .dataframe tbody tr th:only-of-type {\n",
              "        vertical-align: middle;\n",
              "    }\n",
              "\n",
              "    .dataframe tbody tr th {\n",
              "        vertical-align: top;\n",
              "    }\n",
              "\n",
              "    .dataframe thead th {\n",
              "        text-align: right;\n",
              "    }\n",
              "</style>\n",
              "<table border=\"1\" class=\"dataframe\">\n",
              "  <thead>\n",
              "    <tr style=\"text-align: right;\">\n",
              "      <th></th>\n",
              "      <th>id</th>\n",
              "      <th>pop</th>\n",
              "      <th>price</th>\n",
              "      <th>quantity</th>\n",
              "    </tr>\n",
              "  </thead>\n",
              "  <tbody>\n",
              "    <tr>\n",
              "      <th>count</th>\n",
              "      <td>6480.000000</td>\n",
              "      <td>6480.000000</td>\n",
              "      <td>6480.000000</td>\n",
              "      <td>6480.000000</td>\n",
              "    </tr>\n",
              "    <tr>\n",
              "      <th>mean</th>\n",
              "      <td>3239.500000</td>\n",
              "      <td>355141.416667</td>\n",
              "      <td>1.188981</td>\n",
              "      <td>29431.855093</td>\n",
              "    </tr>\n",
              "    <tr>\n",
              "      <th>std</th>\n",
              "      <td>1870.759204</td>\n",
              "      <td>232828.796289</td>\n",
              "      <td>0.814567</td>\n",
              "      <td>17901.328301</td>\n",
              "    </tr>\n",
              "    <tr>\n",
              "      <th>min</th>\n",
              "      <td>0.000000</td>\n",
              "      <td>134219.000000</td>\n",
              "      <td>0.110000</td>\n",
              "      <td>2953.000000</td>\n",
              "    </tr>\n",
              "    <tr>\n",
              "      <th>25%</th>\n",
              "      <td>1619.750000</td>\n",
              "      <td>141439.750000</td>\n",
              "      <td>0.610000</td>\n",
              "      <td>16441.750000</td>\n",
              "    </tr>\n",
              "    <tr>\n",
              "      <th>50%</th>\n",
              "      <td>3239.500000</td>\n",
              "      <td>257501.500000</td>\n",
              "      <td>0.920000</td>\n",
              "      <td>25184.000000</td>\n",
              "    </tr>\n",
              "    <tr>\n",
              "      <th>75%</th>\n",
              "      <td>4859.250000</td>\n",
              "      <td>665871.000000</td>\n",
              "      <td>1.500000</td>\n",
              "      <td>37866.000000</td>\n",
              "    </tr>\n",
              "    <tr>\n",
              "      <th>max</th>\n",
              "      <td>6479.000000</td>\n",
              "      <td>672130.000000</td>\n",
              "      <td>4.540000</td>\n",
              "      <td>145287.000000</td>\n",
              "    </tr>\n",
              "  </tbody>\n",
              "</table>\n",
              "</div>"
            ],
            "text/plain": [
              "                id            pop        price       quantity\n",
              "count  6480.000000    6480.000000  6480.000000    6480.000000\n",
              "mean   3239.500000  355141.416667     1.188981   29431.855093\n",
              "std    1870.759204  232828.796289     0.814567   17901.328301\n",
              "min       0.000000  134219.000000     0.110000    2953.000000\n",
              "25%    1619.750000  141439.750000     0.610000   16441.750000\n",
              "50%    3239.500000  257501.500000     0.920000   25184.000000\n",
              "75%    4859.250000  665871.000000     1.500000   37866.000000\n",
              "max    6479.000000  672130.000000     4.540000  145287.000000"
            ]
          },
          "metadata": {},
          "execution_count": 510
        }
      ]
    },
    {
      "cell_type": "code",
      "source": [
        "q1 = np.quantile(df_train['quantity'], 0.25)\n",
        "q2 = np.quantile(df_train['quantity'], 0.50)\n",
        "q3 = np.quantile(df_train['quantity'], 0.75)\n",
        "IQR = q3 - q1\n",
        "upperwhishker = q3 + (IQR * 0.5)\n",
        "lowerwhishker = q1 - (IQR * 0.5)"
      ],
      "metadata": {
        "id": "O1wKWeH0P7wk"
      },
      "execution_count": 511,
      "outputs": []
    },
    {
      "cell_type": "code",
      "source": [
        "df_train['quantity'] = np.where(df_train['quantity']>upperwhishker,upperwhishker,df_train['quantity'])"
      ],
      "metadata": {
        "id": "dr38K5LBQ3FZ"
      },
      "execution_count": 512,
      "outputs": []
    },
    {
      "cell_type": "code",
      "source": [
        "q1 = np.quantile(df_train['price'], 0.25)\n",
        "q2 = np.quantile(df_train['price'], 0.50)\n",
        "q3 = np.quantile(df_train['price'], 0.75)\n",
        "IQR = q3 - q1\n",
        "upperwhishker = q3 + (IQR * 0.5)\n",
        "lowerwhishker = q1 - (IQR * 0.5)\n",
        "df_train['price'] = np.where(df_train['price']>upperwhishker,upperwhishker,df_train['price'])"
      ],
      "metadata": {
        "id": "DD4iH-5eTFfY"
      },
      "execution_count": 513,
      "outputs": []
    },
    {
      "cell_type": "code",
      "source": [
        "# Now clear the all outliers \n",
        "df_train.boxplot()"
      ],
      "metadata": {
        "colab": {
          "base_uri": "https://localhost:8080/",
          "height": 285
        },
        "id": "2omsB8H8TRRu",
        "outputId": "4e7847bf-c92e-494b-fad2-87b208bc32f2"
      },
      "execution_count": 514,
      "outputs": [
        {
          "output_type": "execute_result",
          "data": {
            "text/plain": [
              "<matplotlib.axes._subplots.AxesSubplot at 0x7fa0123ffc90>"
            ]
          },
          "metadata": {},
          "execution_count": 514
        },
        {
          "output_type": "display_data",
          "data": {
            "image/png": "[encoded data removed]",
            "text/plain": [
              "<Figure size 432x288 with 1 Axes>"
            ]
          },
          "metadata": {
            "needs_background": "light"
          }
        }
      ]
    },
    {
      "cell_type": "code",
      "source": [
        "df_city = pd.get_dummies(df_train['city'])\n",
        "df_shop = pd.get_dummies(df_train['shop'])\n",
        "df_brand = pd.get_dummies(df_train['brand'])\n",
        "\n"
      ],
      "metadata": {
        "id": "xIknHg-sXFXZ"
      },
      "execution_count": 515,
      "outputs": []
    },
    {
      "cell_type": "markdown",
      "source": [
        "# Now data is cleaned and no duplicate values no null values and no outliers "
      ],
      "metadata": {
        "id": "jxoF3dV1i0K2"
      }
    },
    {
      "cell_type": "code",
      "source": [
        "df_brand"
      ],
      "metadata": {
        "colab": {
          "base_uri": "https://localhost:8080/",
          "height": 424
        },
        "id": "FxtAbajBjBOg",
        "outputId": "1e64c5f3-1d8a-4439-ff57-05fa01a8fa23"
      },
      "execution_count": 516,
      "outputs": [
        {
          "output_type": "execute_result",
          "data": {
            "text/html": [
              "<div>\n",
              "<style scoped>\n",
              "    .dataframe tbody tr th:only-of-type {\n",
              "        vertical-align: middle;\n",
              "    }\n",
              "\n",
              "    .dataframe tbody tr th {\n",
              "        vertical-align: top;\n",
              "    }\n",
              "\n",
              "    .dataframe thead th {\n",
              "        text-align: right;\n",
              "    }\n",
              "</style>\n",
              "<table border=\"1\" class=\"dataframe\">\n",
              "  <thead>\n",
              "    <tr style=\"text-align: right;\">\n",
              "      <th></th>\n",
              "      <th>adult-cola</th>\n",
              "      <th>gazoza</th>\n",
              "      <th>kinder-cola</th>\n",
              "      <th>lemon-boost</th>\n",
              "      <th>orange-power</th>\n",
              "    </tr>\n",
              "  </thead>\n",
              "  <tbody>\n",
              "    <tr>\n",
              "      <th>0</th>\n",
              "      <td>0</td>\n",
              "      <td>0</td>\n",
              "      <td>1</td>\n",
              "      <td>0</td>\n",
              "      <td>0</td>\n",
              "    </tr>\n",
              "    <tr>\n",
              "      <th>1</th>\n",
              "      <td>0</td>\n",
              "      <td>0</td>\n",
              "      <td>1</td>\n",
              "      <td>0</td>\n",
              "      <td>0</td>\n",
              "    </tr>\n",
              "    <tr>\n",
              "      <th>2</th>\n",
              "      <td>0</td>\n",
              "      <td>0</td>\n",
              "      <td>1</td>\n",
              "      <td>0</td>\n",
              "      <td>0</td>\n",
              "    </tr>\n",
              "    <tr>\n",
              "      <th>3</th>\n",
              "      <td>1</td>\n",
              "      <td>0</td>\n",
              "      <td>0</td>\n",
              "      <td>0</td>\n",
              "      <td>0</td>\n",
              "    </tr>\n",
              "    <tr>\n",
              "      <th>4</th>\n",
              "      <td>1</td>\n",
              "      <td>0</td>\n",
              "      <td>0</td>\n",
              "      <td>0</td>\n",
              "      <td>0</td>\n",
              "    </tr>\n",
              "    <tr>\n",
              "      <th>...</th>\n",
              "      <td>...</td>\n",
              "      <td>...</td>\n",
              "      <td>...</td>\n",
              "      <td>...</td>\n",
              "      <td>...</td>\n",
              "    </tr>\n",
              "    <tr>\n",
              "      <th>6475</th>\n",
              "      <td>0</td>\n",
              "      <td>0</td>\n",
              "      <td>0</td>\n",
              "      <td>0</td>\n",
              "      <td>1</td>\n",
              "    </tr>\n",
              "    <tr>\n",
              "      <th>6476</th>\n",
              "      <td>0</td>\n",
              "      <td>0</td>\n",
              "      <td>0</td>\n",
              "      <td>0</td>\n",
              "      <td>1</td>\n",
              "    </tr>\n",
              "    <tr>\n",
              "      <th>6477</th>\n",
              "      <td>1</td>\n",
              "      <td>0</td>\n",
              "      <td>0</td>\n",
              "      <td>0</td>\n",
              "      <td>0</td>\n",
              "    </tr>\n",
              "    <tr>\n",
              "      <th>6478</th>\n",
              "      <td>0</td>\n",
              "      <td>1</td>\n",
              "      <td>0</td>\n",
              "      <td>0</td>\n",
              "      <td>0</td>\n",
              "    </tr>\n",
              "    <tr>\n",
              "      <th>6479</th>\n",
              "      <td>1</td>\n",
              "      <td>0</td>\n",
              "      <td>0</td>\n",
              "      <td>0</td>\n",
              "      <td>0</td>\n",
              "    </tr>\n",
              "  </tbody>\n",
              "</table>\n",
              "<p>6480 rows × 5 columns</p>\n",
              "</div>"
            ],
            "text/plain": [
              "      adult-cola  gazoza  kinder-cola  lemon-boost  orange-power\n",
              "0              0       0            1            0             0\n",
              "1              0       0            1            0             0\n",
              "2              0       0            1            0             0\n",
              "3              1       0            0            0             0\n",
              "4              1       0            0            0             0\n",
              "...          ...     ...          ...          ...           ...\n",
              "6475           0       0            0            0             1\n",
              "6476           0       0            0            0             1\n",
              "6477           1       0            0            0             0\n",
              "6478           0       1            0            0             0\n",
              "6479           1       0            0            0             0\n",
              "\n",
              "[6480 rows x 5 columns]"
            ]
          },
          "metadata": {},
          "execution_count": 516
        }
      ]
    },
    {
      "cell_type": "code",
      "source": [
        "df_city"
      ],
      "metadata": {
        "colab": {
          "base_uri": "https://localhost:8080/",
          "height": 424
        },
        "id": "jCjX2tcgjNoX",
        "outputId": "72b5d204-ae7f-4574-9514-f6c2f5fff189"
      },
      "execution_count": 517,
      "outputs": [
        {
          "output_type": "execute_result",
          "data": {
            "text/html": [
              "<div>\n",
              "<style scoped>\n",
              "    .dataframe tbody tr th:only-of-type {\n",
              "        vertical-align: middle;\n",
              "    }\n",
              "\n",
              "    .dataframe tbody tr th {\n",
              "        vertical-align: top;\n",
              "    }\n",
              "\n",
              "    .dataframe thead th {\n",
              "        text-align: right;\n",
              "    }\n",
              "</style>\n",
              "<table border=\"1\" class=\"dataframe\">\n",
              "  <thead>\n",
              "    <tr style=\"text-align: right;\">\n",
              "      <th></th>\n",
              "      <th>Athens</th>\n",
              "      <th>Irakleion</th>\n",
              "      <th>Larisa</th>\n",
              "      <th>Patra</th>\n",
              "      <th>Thessaloniki</th>\n",
              "    </tr>\n",
              "  </thead>\n",
              "  <tbody>\n",
              "    <tr>\n",
              "      <th>0</th>\n",
              "      <td>1</td>\n",
              "      <td>0</td>\n",
              "      <td>0</td>\n",
              "      <td>0</td>\n",
              "      <td>0</td>\n",
              "    </tr>\n",
              "    <tr>\n",
              "      <th>1</th>\n",
              "      <td>1</td>\n",
              "      <td>0</td>\n",
              "      <td>0</td>\n",
              "      <td>0</td>\n",
              "      <td>0</td>\n",
              "    </tr>\n",
              "    <tr>\n",
              "      <th>2</th>\n",
              "      <td>1</td>\n",
              "      <td>0</td>\n",
              "      <td>0</td>\n",
              "      <td>0</td>\n",
              "      <td>0</td>\n",
              "    </tr>\n",
              "    <tr>\n",
              "      <th>3</th>\n",
              "      <td>1</td>\n",
              "      <td>0</td>\n",
              "      <td>0</td>\n",
              "      <td>0</td>\n",
              "      <td>0</td>\n",
              "    </tr>\n",
              "    <tr>\n",
              "      <th>4</th>\n",
              "      <td>1</td>\n",
              "      <td>0</td>\n",
              "      <td>0</td>\n",
              "      <td>0</td>\n",
              "      <td>0</td>\n",
              "    </tr>\n",
              "    <tr>\n",
              "      <th>...</th>\n",
              "      <td>...</td>\n",
              "      <td>...</td>\n",
              "      <td>...</td>\n",
              "      <td>...</td>\n",
              "      <td>...</td>\n",
              "    </tr>\n",
              "    <tr>\n",
              "      <th>6475</th>\n",
              "      <td>1</td>\n",
              "      <td>0</td>\n",
              "      <td>0</td>\n",
              "      <td>0</td>\n",
              "      <td>0</td>\n",
              "    </tr>\n",
              "    <tr>\n",
              "      <th>6476</th>\n",
              "      <td>0</td>\n",
              "      <td>0</td>\n",
              "      <td>1</td>\n",
              "      <td>0</td>\n",
              "      <td>0</td>\n",
              "    </tr>\n",
              "    <tr>\n",
              "      <th>6477</th>\n",
              "      <td>0</td>\n",
              "      <td>0</td>\n",
              "      <td>0</td>\n",
              "      <td>1</td>\n",
              "      <td>0</td>\n",
              "    </tr>\n",
              "    <tr>\n",
              "      <th>6478</th>\n",
              "      <td>0</td>\n",
              "      <td>0</td>\n",
              "      <td>0</td>\n",
              "      <td>0</td>\n",
              "      <td>1</td>\n",
              "    </tr>\n",
              "    <tr>\n",
              "      <th>6479</th>\n",
              "      <td>0</td>\n",
              "      <td>0</td>\n",
              "      <td>0</td>\n",
              "      <td>0</td>\n",
              "      <td>1</td>\n",
              "    </tr>\n",
              "  </tbody>\n",
              "</table>\n",
              "<p>6480 rows × 5 columns</p>\n",
              "</div>"
            ],
            "text/plain": [
              "      Athens  Irakleion  Larisa  Patra  Thessaloniki\n",
              "0          1          0       0      0             0\n",
              "1          1          0       0      0             0\n",
              "2          1          0       0      0             0\n",
              "3          1          0       0      0             0\n",
              "4          1          0       0      0             0\n",
              "...      ...        ...     ...    ...           ...\n",
              "6475       1          0       0      0             0\n",
              "6476       0          0       1      0             0\n",
              "6477       0          0       0      1             0\n",
              "6478       0          0       0      0             1\n",
              "6479       0          0       0      0             1\n",
              "\n",
              "[6480 rows x 5 columns]"
            ]
          },
          "metadata": {},
          "execution_count": 517
        }
      ]
    },
    {
      "cell_type": "code",
      "source": [
        "df_shop"
      ],
      "metadata": {
        "colab": {
          "base_uri": "https://localhost:8080/",
          "height": 424
        },
        "id": "P1DUhHgJlU0-",
        "outputId": "c5f23845-9ca8-4071-8052-dfb14ba91dfe"
      },
      "execution_count": 518,
      "outputs": [
        {
          "output_type": "execute_result",
          "data": {
            "text/html": [
              "<div>\n",
              "<style scoped>\n",
              "    .dataframe tbody tr th:only-of-type {\n",
              "        vertical-align: middle;\n",
              "    }\n",
              "\n",
              "    .dataframe tbody tr th {\n",
              "        vertical-align: top;\n",
              "    }\n",
              "\n",
              "    .dataframe thead th {\n",
              "        text-align: right;\n",
              "    }\n",
              "</style>\n",
              "<table border=\"1\" class=\"dataframe\">\n",
              "  <thead>\n",
              "    <tr style=\"text-align: right;\">\n",
              "      <th></th>\n",
              "      <th>shop_1</th>\n",
              "      <th>shop_2</th>\n",
              "      <th>shop_3</th>\n",
              "      <th>shop_4</th>\n",
              "      <th>shop_5</th>\n",
              "      <th>shop_6</th>\n",
              "    </tr>\n",
              "  </thead>\n",
              "  <tbody>\n",
              "    <tr>\n",
              "      <th>0</th>\n",
              "      <td>1</td>\n",
              "      <td>0</td>\n",
              "      <td>0</td>\n",
              "      <td>0</td>\n",
              "      <td>0</td>\n",
              "      <td>0</td>\n",
              "    </tr>\n",
              "    <tr>\n",
              "      <th>1</th>\n",
              "      <td>1</td>\n",
              "      <td>0</td>\n",
              "      <td>0</td>\n",
              "      <td>0</td>\n",
              "      <td>0</td>\n",
              "      <td>0</td>\n",
              "    </tr>\n",
              "    <tr>\n",
              "      <th>2</th>\n",
              "      <td>1</td>\n",
              "      <td>0</td>\n",
              "      <td>0</td>\n",
              "      <td>0</td>\n",
              "      <td>0</td>\n",
              "      <td>0</td>\n",
              "    </tr>\n",
              "    <tr>\n",
              "      <th>3</th>\n",
              "      <td>1</td>\n",
              "      <td>0</td>\n",
              "      <td>0</td>\n",
              "      <td>0</td>\n",
              "      <td>0</td>\n",
              "      <td>0</td>\n",
              "    </tr>\n",
              "    <tr>\n",
              "      <th>4</th>\n",
              "      <td>1</td>\n",
              "      <td>0</td>\n",
              "      <td>0</td>\n",
              "      <td>0</td>\n",
              "      <td>0</td>\n",
              "      <td>0</td>\n",
              "    </tr>\n",
              "    <tr>\n",
              "      <th>...</th>\n",
              "      <td>...</td>\n",
              "      <td>...</td>\n",
              "      <td>...</td>\n",
              "      <td>...</td>\n",
              "      <td>...</td>\n",
              "      <td>...</td>\n",
              "    </tr>\n",
              "    <tr>\n",
              "      <th>6475</th>\n",
              "      <td>0</td>\n",
              "      <td>0</td>\n",
              "      <td>1</td>\n",
              "      <td>0</td>\n",
              "      <td>0</td>\n",
              "      <td>0</td>\n",
              "    </tr>\n",
              "    <tr>\n",
              "      <th>6476</th>\n",
              "      <td>0</td>\n",
              "      <td>0</td>\n",
              "      <td>0</td>\n",
              "      <td>0</td>\n",
              "      <td>1</td>\n",
              "      <td>0</td>\n",
              "    </tr>\n",
              "    <tr>\n",
              "      <th>6477</th>\n",
              "      <td>0</td>\n",
              "      <td>0</td>\n",
              "      <td>0</td>\n",
              "      <td>0</td>\n",
              "      <td>0</td>\n",
              "      <td>1</td>\n",
              "    </tr>\n",
              "    <tr>\n",
              "      <th>6478</th>\n",
              "      <td>0</td>\n",
              "      <td>0</td>\n",
              "      <td>0</td>\n",
              "      <td>1</td>\n",
              "      <td>0</td>\n",
              "      <td>0</td>\n",
              "    </tr>\n",
              "    <tr>\n",
              "      <th>6479</th>\n",
              "      <td>0</td>\n",
              "      <td>0</td>\n",
              "      <td>0</td>\n",
              "      <td>1</td>\n",
              "      <td>0</td>\n",
              "      <td>0</td>\n",
              "    </tr>\n",
              "  </tbody>\n",
              "</table>\n",
              "<p>6480 rows × 6 columns</p>\n",
              "</div>"
            ],
            "text/plain": [
              "      shop_1  shop_2  shop_3  shop_4  shop_5  shop_6\n",
              "0          1       0       0       0       0       0\n",
              "1          1       0       0       0       0       0\n",
              "2          1       0       0       0       0       0\n",
              "3          1       0       0       0       0       0\n",
              "4          1       0       0       0       0       0\n",
              "...      ...     ...     ...     ...     ...     ...\n",
              "6475       0       0       1       0       0       0\n",
              "6476       0       0       0       0       1       0\n",
              "6477       0       0       0       0       0       1\n",
              "6478       0       0       0       1       0       0\n",
              "6479       0       0       0       1       0       0\n",
              "\n",
              "[6480 rows x 6 columns]"
            ]
          },
          "metadata": {},
          "execution_count": 518
        }
      ]
    },
    {
      "cell_type": "code",
      "source": [
        ""
      ],
      "metadata": {
        "id": "jFZmZ5ZXlWY0"
      },
      "execution_count": 518,
      "outputs": []
    },
    {
      "cell_type": "markdown",
      "source": [
        "# Now splitting the data Nested class for timeseries"
      ],
      "metadata": {
        "id": "Kwevh6xFma2e"
      }
    },
    {
      "cell_type": "code",
      "source": [
        "import logging\n",
        "\n",
        "class CustomTimeSeriesSplit:\n",
        "\n",
        "    def __init__(self,\n",
        "                 train_set_size: int,\n",
        "                 test_set_size: int\n",
        "                 ):\n",
        "        \"\"\"\n",
        "        :param train_set_size: data points (days) in each fold for the train set\n",
        "        :param test_set_size: data points (days) in each fold for the test set\n",
        "        \"\"\"\n",
        "        self.train_set_size = train_set_size\n",
        "        self.test_set_size = test_set_size\n",
        "        self._logger = logging.getLogger(__name__)\n",
        "\n",
        "    def split(self,\n",
        "              x: np.array,\n",
        "              y: np.array = None) -> (np.array, np.array):\n",
        "        \"\"\"Return train/test split indices.\n",
        "        :param x: time series to use for prediction, shape (n_samples, n_features)\n",
        "        :param y: time series to predict, shape (n_samples, n_features)\n",
        "        :return: (train_indices, test_indices)\n",
        "        Note: index of both x and y should be of type datetime.\n",
        "        \"\"\"\n",
        "        if y is not None:\n",
        "            assert x.index.equals(y.index)\n",
        "        split_points = self.get_split_points(x)\n",
        "        for split_point in split_points:\n",
        "            is_train = (x.index < split_point) & (x.index >= split_point -\n",
        "                                                  pd.Timedelta(self.train_set_size, unit='D'))\n",
        "            is_test = (x.index >= split_point) & (x.index < split_point +\n",
        "                                                  pd.Timedelta(self.test_set_size, unit='D'))\n",
        "            if not is_train.any() or not is_test.any():\n",
        "                self._logger.warning('Found %d train and %d test observations '\n",
        "                                     'skipping fold for split point %s',\n",
        "                                     is_train.sum(), is_test.sum(), split_point)\n",
        "                continue\n",
        "            dummy_ix = pd.Series(range(0, len(x)), index=x.index)\n",
        "            ix_train = dummy_ix.loc[is_train].values\n",
        "            ix_test = dummy_ix.loc[is_test].values\n",
        "            if ix_train is None or ix_test is None:\n",
        "                self._logger.warning('Found no data for train or test period, '\n",
        "                                     'skipping fold for split date %s',\n",
        "                                     split_point)\n",
        "                continue\n",
        "            yield ix_train, ix_test\n",
        "\n",
        "    def get_split_points(self, x: np.array) -> pd.DatetimeIndex:\n",
        "        \"\"\"Get all possible split point dates\"\"\"\n",
        "        start = x.index.min() + pd.Timedelta(self.train_set_size, unit='D')\n",
        "        end = x.index.max() - pd.Timedelta(self.test_set_size - 1, unit='D')\n",
        "        self._logger.info(f'Generating split points from {start} to {end}')\n",
        "        split_range = pd.date_range(start, end, freq='D')\n",
        "        first_split_point =  (len(split_range) + self.test_set_size - 1) % self.test_set_size\n",
        "        return split_range[first_split_point::self.test_set_size]"
      ],
      "metadata": {
        "id": "pczogM9ilffv"
      },
      "execution_count": 521,
      "outputs": []
    },
    {
      "cell_type": "code",
      "source": [
        ""
      ],
      "metadata": {
        "id": "SwJ8dAEdn_ZJ"
      },
      "execution_count": null,
      "outputs": []
    },
    {
      "cell_type": "markdown",
      "source": [
        "# Nested CV timeseries Implementation"
      ],
      "metadata": {
        "id": "EsJ2Bc2opHlY"
      }
    },
    {
      "cell_type": "code",
      "source": [
        "%load_ext autoreload\n",
        "%autoreload 2\n",
        "\n",
        "import datetime as dt\n",
        "\n",
        "import matplotlib.pyplot as plt\n",
        "import numpy as np\n",
        "import pandas as pd\n",
        "import seaborn as sns\n",
        "from sklearn.linear_model import ElasticNet\n",
        "from sklearn.model_selection import GridSearchCV\n",
        "from sklearn.pipeline import Pipeline\n",
        "from sklearn.preprocessing import StandardScaler\n",
        "from sklearn.svm import SVR"
      ],
      "metadata": {
        "id": "jmW8u-iTobBD"
      },
      "execution_count": 522,
      "outputs": []
    },
    {
      "cell_type": "code",
      "source": [
        "number_of_data_points = 200\n",
        "columns = ['car usage', 'train usage', 'taxi usage']\n",
        "date_index = pd.date_range(dt.datetime(2018,1,1), \n",
        "                           periods=number_of_data_points, \n",
        "                           freq='D')\n",
        "x = pd.DataFrame(np.random.rand(number_of_data_points, len(columns))*999,\n",
        "                 columns=columns,\n",
        "                 index=date_index)\n",
        "y = pd.Series(x.sum(axis=1) * .75 + np.random.randn(number_of_data_points)*100, name='travelers at the gate')\n",
        "\n",
        "fig, ax = plt.subplots(1, 1)\n",
        "for col in columns:\n",
        "    ax.plot(x[col], alpha=.5)\n",
        "ax.plot(y)\n",
        "ax.legend()\n",
        "plt.xticks(rotation=45);"
      ],
      "metadata": {
        "colab": {
          "base_uri": "https://localhost:8080/",
          "height": 309
        },
        "id": "GV3RJ4MtobFT",
        "outputId": "ff025a7e-4973-48d4-f152-124d21b729ca"
      },
      "execution_count": 523,
      "outputs": [
        {
          "output_type": "stream",
          "name": "stderr",
          "text": [
            "No handles with labels found to put in legend.\n"
          ]
        },
        {
          "output_type": "display_data",
          "data": {
            "image/png": "[encoded data removed]",
            "text/plain": [
              "<Figure size 432x288 with 1 Axes>"
            ]
          },
          "metadata": {
            "needs_background": "light"
          }
        }
      ]
    },
    {
      "cell_type": "code",
      "source": [
        ""
      ],
      "metadata": {
        "id": "SjRFfbeqobH_"
      },
      "execution_count": null,
      "outputs": []
    },
    {
      "cell_type": "markdown",
      "source": [
        "# Specify the sizes of train and test set and initialize the cross validators"
      ],
      "metadata": {
        "id": "ui5ImMFxphH5"
      }
    },
    {
      "cell_type": "code",
      "source": [
        "outer_train_set_size = 28\n",
        "outer_test_set_size = 7\n",
        "\n",
        "inner_train_set_size = 14\n",
        "inner_test_set_size = 7\n",
        "\n",
        "outer_loop_splitter = CustomTimeSeriesSplit(\n",
        "    train_set_size=outer_train_set_size,\n",
        "    test_set_size=outer_test_set_size)\n",
        "\n",
        "inner_loop_splitter = CustomTimeSeriesSplit(\n",
        "    train_set_size=inner_train_set_size,\n",
        "    test_set_size=inner_test_set_size)"
      ],
      "metadata": {
        "id": "oSjspgGWpi02"
      },
      "execution_count": 524,
      "outputs": []
    },
    {
      "cell_type": "code",
      "source": [
        ""
      ],
      "metadata": {
        "id": "kNeySfFUplc2"
      },
      "execution_count": null,
      "outputs": []
    },
    {
      "cell_type": "markdown",
      "source": [
        "# Initialize algorithms: pipeline + parameter grid\n"
      ],
      "metadata": {
        "id": "m2Kyhj3oppaP"
      }
    },
    {
      "cell_type": "code",
      "source": [
        "# Initialize models\n",
        "model_1 = SVR()\n",
        "model_2 = ElasticNet()\n",
        "\n",
        "# Initialize pipelines\n",
        "pipeline_1 = Pipeline([('scaling', StandardScaler()),\n",
        "                       ('model', model_1)])\n",
        "pipeline_2 = Pipeline([('scaling', StandardScaler()),\n",
        "                       ('model', model_2)])\n",
        "\n",
        "# Initialize hyperparameter grids\n",
        "param_grid_1 = [{'model__kernel': ['rbf'],\n",
        "                 'model__C': np.power(10., np.arange(-4, 4)),\n",
        "                 'model__gamma': np.power(10., np.arange(-5, 0))},\n",
        "                {'model__kernel': ['linear'],\n",
        "                 'model__C': np.power(10., np.arange(-4, 4))}]\n",
        "param_grid_2 = [{'model__l1_ratio': [.1, .5, .7, .9, .95, .99, 1],\n",
        "                 'model__alpha': [.1, .5, 1, 10, 100]}]\n",
        "\n",
        "# Make a DataFrame to save all algorithms and include columns to save the results\n",
        "algorithms = {\n",
        "        'param_grid': [param_grid_1, param_grid_2],                                            \n",
        "        'pipeline': [pipeline_1, pipeline_2],\n",
        "    }\n",
        "algorithm_names = ['SVR', 'ElasticNet']\n",
        "algorithms_and_results = pd.DataFrame(algorithms, index=algorithm_names)\n",
        "for column in ['scores_cv_inner', 'scores_cv_outer']:\n",
        "    algorithms_and_results[column] = [[] for _ in range(len(algorithm_names))]\n",
        "algorithms_and_results\n"
      ],
      "metadata": {
        "colab": {
          "base_uri": "https://localhost:8080/",
          "height": 112
        },
        "id": "Hl-nc8LBprHP",
        "outputId": "de958e47-0026-4e1a-cc1d-8d01439f1992"
      },
      "execution_count": 525,
      "outputs": [
        {
          "output_type": "execute_result",
          "data": {
            "text/html": [
              "<div>\n",
              "<style scoped>\n",
              "    .dataframe tbody tr th:only-of-type {\n",
              "        vertical-align: middle;\n",
              "    }\n",
              "\n",
              "    .dataframe tbody tr th {\n",
              "        vertical-align: top;\n",
              "    }\n",
              "\n",
              "    .dataframe thead th {\n",
              "        text-align: right;\n",
              "    }\n",
              "</style>\n",
              "<table border=\"1\" class=\"dataframe\">\n",
              "  <thead>\n",
              "    <tr style=\"text-align: right;\">\n",
              "      <th></th>\n",
              "      <th>param_grid</th>\n",
              "      <th>pipeline</th>\n",
              "      <th>scores_cv_inner</th>\n",
              "      <th>scores_cv_outer</th>\n",
              "    </tr>\n",
              "  </thead>\n",
              "  <tbody>\n",
              "    <tr>\n",
              "      <th>SVR</th>\n",
              "      <td>[{'model__kernel': ['rbf'], 'model__C': [0.000...</td>\n",
              "      <td>(StandardScaler(), SVR())</td>\n",
              "      <td>[]</td>\n",
              "      <td>[]</td>\n",
              "    </tr>\n",
              "    <tr>\n",
              "      <th>ElasticNet</th>\n",
              "      <td>[{'model__l1_ratio': [0.1, 0.5, 0.7, 0.9, 0.95...</td>\n",
              "      <td>(StandardScaler(), ElasticNet())</td>\n",
              "      <td>[]</td>\n",
              "      <td>[]</td>\n",
              "    </tr>\n",
              "  </tbody>\n",
              "</table>\n",
              "</div>"
            ],
            "text/plain": [
              "                                                   param_grid  ... scores_cv_outer\n",
              "SVR         [{'model__kernel': ['rbf'], 'model__C': [0.000...  ...              []\n",
              "ElasticNet  [{'model__l1_ratio': [0.1, 0.5, 0.7, 0.9, 0.95...  ...              []\n",
              "\n",
              "[2 rows x 4 columns]"
            ]
          },
          "metadata": {},
          "execution_count": 525
        }
      ]
    },
    {
      "cell_type": "code",
      "source": [
        ""
      ],
      "metadata": {
        "id": "Lj0chqyFpv-T"
      },
      "execution_count": null,
      "outputs": []
    },
    {
      "cell_type": "markdown",
      "source": [
        "# Run the nested cross validation and save the results"
      ],
      "metadata": {
        "id": "T57dKgNypz1C"
      }
    },
    {
      "cell_type": "code",
      "source": [
        "# The outer loop for algorithm selection and performance estimation\n",
        "for outer_train_idx, outer_test_idx in outer_loop_splitter.split(x, y):\n",
        "    x_train = x.iloc[outer_train_idx]\n",
        "    y_train = y.iloc[outer_train_idx]\n",
        "    x_test = x.iloc[outer_test_idx]\n",
        "    y_test = y.iloc[outer_test_idx]\n",
        "\n",
        "    # The grid search estimators need to be rebuild each outer fold, because the inner loop\n",
        "    # cross validation can only be defined given the train set from the outer loop.\n",
        "    grid_search_cv_estimators = {}\n",
        "    for (name, param_grid, pipeline) in algorithms_and_results[['param_grid', 'pipeline']].itertuples():\n",
        "        \n",
        "        # The inner loop for hyperparameter tuning\n",
        "        grid_search_cv_estimator = GridSearchCV(\n",
        "            estimator=pipeline,\n",
        "            param_grid=param_grid,\n",
        "            scoring='r2',\n",
        "            cv=inner_loop_splitter.split(x_train, y_train),\n",
        "            n_jobs=4,\n",
        "            refit=True)\n",
        "        grid_search_cv_estimator.fit(x_train, y_train)\n",
        "\n",
        "        outer_score = grid_search_cv_estimator.score(x_test, y_test)\n",
        "        algorithms_and_results.loc[name, 'scores_cv_inner'].append(grid_search_cv_estimator.best_score_)\n",
        "        algorithms_and_results.loc[name, 'scores_cv_outer'].append(outer_score)\n",
        "algorithms_and_results"
      ],
      "metadata": {
        "colab": {
          "base_uri": "https://localhost:8080/",
          "height": 147
        },
        "id": "0i-zDZUbp2te",
        "outputId": "92c544d4-81e0-4bb8-90eb-432d261024f9"
      },
      "execution_count": 526,
      "outputs": [
        {
          "output_type": "execute_result",
          "data": {
            "text/html": [
              "<div>\n",
              "<style scoped>\n",
              "    .dataframe tbody tr th:only-of-type {\n",
              "        vertical-align: middle;\n",
              "    }\n",
              "\n",
              "    .dataframe tbody tr th {\n",
              "        vertical-align: top;\n",
              "    }\n",
              "\n",
              "    .dataframe thead th {\n",
              "        text-align: right;\n",
              "    }\n",
              "</style>\n",
              "<table border=\"1\" class=\"dataframe\">\n",
              "  <thead>\n",
              "    <tr style=\"text-align: right;\">\n",
              "      <th></th>\n",
              "      <th>param_grid</th>\n",
              "      <th>pipeline</th>\n",
              "      <th>scores_cv_inner</th>\n",
              "      <th>scores_cv_outer</th>\n",
              "    </tr>\n",
              "  </thead>\n",
              "  <tbody>\n",
              "    <tr>\n",
              "      <th>SVR</th>\n",
              "      <td>[{'model__kernel': ['rbf'], 'model__C': [0.000...</td>\n",
              "      <td>(StandardScaler(), SVR())</td>\n",
              "      <td>[0.9395158483405918, 0.9276687263564669, 0.881...</td>\n",
              "      <td>[0.9408599838979437, 0.8579890953332072, 0.864...</td>\n",
              "    </tr>\n",
              "    <tr>\n",
              "      <th>ElasticNet</th>\n",
              "      <td>[{'model__l1_ratio': [0.1, 0.5, 0.7, 0.9, 0.95...</td>\n",
              "      <td>(StandardScaler(), ElasticNet())</td>\n",
              "      <td>[0.9478594692628222, 0.9041160350046464, 0.857...</td>\n",
              "      <td>[0.942135194673945, 0.8690752054813462, 0.8708...</td>\n",
              "    </tr>\n",
              "  </tbody>\n",
              "</table>\n",
              "</div>"
            ],
            "text/plain": [
              "                                                   param_grid  ...                                    scores_cv_outer\n",
              "SVR         [{'model__kernel': ['rbf'], 'model__C': [0.000...  ...  [0.9408599838979437, 0.8579890953332072, 0.864...\n",
              "ElasticNet  [{'model__l1_ratio': [0.1, 0.5, 0.7, 0.9, 0.95...  ...  [0.942135194673945, 0.8690752054813462, 0.8708...\n",
              "\n",
              "[2 rows x 4 columns]"
            ]
          },
          "metadata": {},
          "execution_count": 526
        }
      ]
    },
    {
      "cell_type": "code",
      "source": [
        ""
      ],
      "metadata": {
        "id": "Ztg1buv6p6GI"
      },
      "execution_count": null,
      "outputs": []
    },
    {
      "cell_type": "markdown",
      "source": [
        "# Combine the results"
      ],
      "metadata": {
        "id": "ZrMKYD_zp9v_"
      }
    },
    {
      "cell_type": "code",
      "source": [
        "for agg_function in [np.mean, np.median, np.std]:\n",
        "    for column in ['scores_cv_outer', 'scores_cv_inner']:\n",
        "        aggregation_dict = {column + '_' + agg_function.__name__: lambda df: df[column].map(agg_function)}\n",
        "        algorithms_and_results = algorithms_and_results.assign(**aggregation_dict)\n",
        "algorithms_and_results.T"
      ],
      "metadata": {
        "colab": {
          "base_uri": "https://localhost:8080/",
          "height": 363
        },
        "id": "eXN8usfqp_gD",
        "outputId": "f627726c-0fd9-4984-bc29-7e6554a9894b"
      },
      "execution_count": 527,
      "outputs": [
        {
          "output_type": "execute_result",
          "data": {
            "text/html": [
              "<div>\n",
              "<style scoped>\n",
              "    .dataframe tbody tr th:only-of-type {\n",
              "        vertical-align: middle;\n",
              "    }\n",
              "\n",
              "    .dataframe tbody tr th {\n",
              "        vertical-align: top;\n",
              "    }\n",
              "\n",
              "    .dataframe thead th {\n",
              "        text-align: right;\n",
              "    }\n",
              "</style>\n",
              "<table border=\"1\" class=\"dataframe\">\n",
              "  <thead>\n",
              "    <tr style=\"text-align: right;\">\n",
              "      <th></th>\n",
              "      <th>SVR</th>\n",
              "      <th>ElasticNet</th>\n",
              "    </tr>\n",
              "  </thead>\n",
              "  <tbody>\n",
              "    <tr>\n",
              "      <th>param_grid</th>\n",
              "      <td>[{'model__kernel': ['rbf'], 'model__C': [0.000...</td>\n",
              "      <td>[{'model__l1_ratio': [0.1, 0.5, 0.7, 0.9, 0.95...</td>\n",
              "    </tr>\n",
              "    <tr>\n",
              "      <th>pipeline</th>\n",
              "      <td>(StandardScaler(), SVR())</td>\n",
              "      <td>(StandardScaler(), ElasticNet())</td>\n",
              "    </tr>\n",
              "    <tr>\n",
              "      <th>scores_cv_inner</th>\n",
              "      <td>[0.9395158483405918, 0.9276687263564669, 0.881...</td>\n",
              "      <td>[0.9478594692628222, 0.9041160350046464, 0.857...</td>\n",
              "    </tr>\n",
              "    <tr>\n",
              "      <th>scores_cv_outer</th>\n",
              "      <td>[0.9408599838979437, 0.8579890953332072, 0.864...</td>\n",
              "      <td>[0.942135194673945, 0.8690752054813462, 0.8708...</td>\n",
              "    </tr>\n",
              "    <tr>\n",
              "      <th>scores_cv_outer_mean</th>\n",
              "      <td>0.846902</td>\n",
              "      <td>0.850111</td>\n",
              "    </tr>\n",
              "    <tr>\n",
              "      <th>scores_cv_inner_mean</th>\n",
              "      <td>0.841577</td>\n",
              "      <td>0.860592</td>\n",
              "    </tr>\n",
              "    <tr>\n",
              "      <th>scores_cv_outer_median</th>\n",
              "      <td>0.894229</td>\n",
              "      <td>0.873601</td>\n",
              "    </tr>\n",
              "    <tr>\n",
              "      <th>scores_cv_inner_median</th>\n",
              "      <td>0.858751</td>\n",
              "      <td>0.872913</td>\n",
              "    </tr>\n",
              "    <tr>\n",
              "      <th>scores_cv_outer_std</th>\n",
              "      <td>0.178389</td>\n",
              "      <td>0.169394</td>\n",
              "    </tr>\n",
              "    <tr>\n",
              "      <th>scores_cv_inner_std</th>\n",
              "      <td>0.0941503</td>\n",
              "      <td>0.0793982</td>\n",
              "    </tr>\n",
              "  </tbody>\n",
              "</table>\n",
              "</div>"
            ],
            "text/plain": [
              "                                                                      SVR                                         ElasticNet\n",
              "param_grid              [{'model__kernel': ['rbf'], 'model__C': [0.000...  [{'model__l1_ratio': [0.1, 0.5, 0.7, 0.9, 0.95...\n",
              "pipeline                                        (StandardScaler(), SVR())                   (StandardScaler(), ElasticNet())\n",
              "scores_cv_inner         [0.9395158483405918, 0.9276687263564669, 0.881...  [0.9478594692628222, 0.9041160350046464, 0.857...\n",
              "scores_cv_outer         [0.9408599838979437, 0.8579890953332072, 0.864...  [0.942135194673945, 0.8690752054813462, 0.8708...\n",
              "scores_cv_outer_mean                                             0.846902                                           0.850111\n",
              "scores_cv_inner_mean                                             0.841577                                           0.860592\n",
              "scores_cv_outer_median                                           0.894229                                           0.873601\n",
              "scores_cv_inner_median                                           0.858751                                           0.872913\n",
              "scores_cv_outer_std                                              0.178389                                           0.169394\n",
              "scores_cv_inner_std                                             0.0941503                                          0.0793982"
            ]
          },
          "metadata": {},
          "execution_count": 527
        }
      ]
    },
    {
      "cell_type": "code",
      "source": [
        ""
      ],
      "metadata": {
        "id": "JInT7BXVqChx"
      },
      "execution_count": null,
      "outputs": []
    },
    {
      "cell_type": "markdown",
      "source": [
        "# Select the best algorithm on metric of choice (here mean outer score)"
      ],
      "metadata": {
        "id": "l3nUWLf-qF09"
      }
    },
    {
      "cell_type": "code",
      "source": [
        "best_algorithm_name = algorithms_and_results['scores_cv_outer_mean'].idxmax()\n",
        "best_pipeline = algorithms_and_results.loc[best_algorithm_name, 'pipeline']\n",
        "best_param_grid = algorithms_and_results.loc[best_algorithm_name, 'param_grid']\n",
        "print(f'Choose best estimater: {best_algorithm_name}')"
      ],
      "metadata": {
        "colab": {
          "base_uri": "https://localhost:8080/"
        },
        "id": "o3wGSlr0qIrU",
        "outputId": "774f1bae-3bd9-4944-b6f2-4b47d6cdddf5"
      },
      "execution_count": 528,
      "outputs": [
        {
          "output_type": "stream",
          "name": "stdout",
          "text": [
            "Choose best estimater: ElasticNet\n"
          ]
        }
      ]
    },
    {
      "cell_type": "code",
      "source": [
        ""
      ],
      "metadata": {
        "id": "pQRWbIM9qNAT"
      },
      "execution_count": null,
      "outputs": []
    },
    {
      "cell_type": "markdown",
      "source": [
        "# Expected score"
      ],
      "metadata": {
        "id": "M1VMwbp0qP2u"
      }
    },
    {
      "cell_type": "code",
      "source": [
        "scores, mean_score = algorithms_and_results.loc[best_algorithm_name, ['scores_cv_outer', 'scores_cv_outer_mean']]\n",
        "ax = sns.distplot(scores)\n",
        "ax.set_title(f'Expected score for {best_algorithm_name}')\n",
        "ax.axvline(mean_score, dashes=[6, 2], label=f'Mean score: {round(mean_score,2)}')\n",
        "ax.legend();\n"
      ],
      "metadata": {
        "colab": {
          "base_uri": "https://localhost:8080/",
          "height": 336
        },
        "id": "TCMoonASqRwi",
        "outputId": "8335bbfe-0a96-4867-b264-e85bc33279bd"
      },
      "execution_count": 529,
      "outputs": [
        {
          "output_type": "stream",
          "name": "stderr",
          "text": [
            "/usr/local/lib/python3.7/dist-packages/seaborn/distributions.py:2619: FutureWarning: `distplot` is a deprecated function and will be removed in a future version. Please adapt your code to use either `displot` (a figure-level function with similar flexibility) or `histplot` (an axes-level function for histograms).\n",
            "  warnings.warn(msg, FutureWarning)\n"
          ]
        },
        {
          "output_type": "display_data",
          "data": {
            "image/png": "[encoded data removed]",
            "text/plain": [
              "<Figure size 432x288 with 1 Axes>"
            ]
          },
          "metadata": {
            "needs_background": "light"
          }
        }
      ]
    },
    {
      "cell_type": "code",
      "source": [
        ""
      ],
      "metadata": {
        "id": "8tFuK_wIqVly"
      },
      "execution_count": null,
      "outputs": []
    },
    {
      "cell_type": "markdown",
      "source": [
        "# Search for final hyperparameters on most recent 'outer train set size' data points"
      ],
      "metadata": {
        "id": "pOT2kHUtqao9"
      }
    },
    {
      "cell_type": "code",
      "source": [
        "x_most_recent = x.iloc[-outer_train_set_size:]\n",
        "y_most_recent = y.iloc[-outer_train_set_size:]\n",
        "    \n",
        "grid_search_cv_estimator = GridSearchCV(\n",
        "    estimator=best_pipeline,\n",
        "    param_grid=best_param_grid,\n",
        "    scoring='r2',\n",
        "    cv=inner_loop_splitter.split(x_most_recent, y_most_recent),\n",
        "    n_jobs=4,\n",
        "    refit=True)\n",
        "grid_search_cv_estimator.fit(x_most_recent, y_most_recent)\n",
        "print(f'Final hyperparameters: {grid_search_cv_estimator.best_params_}')"
      ],
      "metadata": {
        "colab": {
          "base_uri": "https://localhost:8080/"
        },
        "id": "Xe7qxy8YqcTu",
        "outputId": "fef08b1c-f9e5-4986-8559-1731b39a7b55"
      },
      "execution_count": 530,
      "outputs": [
        {
          "output_type": "stream",
          "name": "stdout",
          "text": [
            "Final hyperparameters: {'model__alpha': 0.1, 'model__l1_ratio': 1}\n"
          ]
        }
      ]
    },
    {
      "cell_type": "code",
      "source": [
        ""
      ],
      "metadata": {
        "id": "z9RfZcUXqfa3"
      },
      "execution_count": null,
      "outputs": []
    }
  ]
}